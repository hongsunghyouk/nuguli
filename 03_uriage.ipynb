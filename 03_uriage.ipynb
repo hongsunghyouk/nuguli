{
 "cells": [
  {
   "cell_type": "code",
   "execution_count": 113,
   "metadata": {},
   "outputs": [],
   "source": [
    "import pandas as pd"
   ]
  },
  {
   "cell_type": "code",
   "execution_count": 114,
   "metadata": {},
   "outputs": [
    {
     "data": {
      "text/html": [
       "<div>\n",
       "<style scoped>\n",
       "    .dataframe tbody tr th:only-of-type {\n",
       "        vertical-align: middle;\n",
       "    }\n",
       "\n",
       "    .dataframe tbody tr th {\n",
       "        vertical-align: top;\n",
       "    }\n",
       "\n",
       "    .dataframe thead th {\n",
       "        text-align: right;\n",
       "    }\n",
       "</style>\n",
       "<table border=\"1\" class=\"dataframe\">\n",
       "  <thead>\n",
       "    <tr style=\"text-align: right;\">\n",
       "      <th></th>\n",
       "      <th>purchase_date</th>\n",
       "      <th>item_name</th>\n",
       "      <th>item_price</th>\n",
       "      <th>customer_name</th>\n",
       "    </tr>\n",
       "  </thead>\n",
       "  <tbody>\n",
       "    <tr>\n",
       "      <th>0</th>\n",
       "      <td>2019-06-13 18:02</td>\n",
       "      <td>상품A</td>\n",
       "      <td>100.0</td>\n",
       "      <td>김가온</td>\n",
       "    </tr>\n",
       "    <tr>\n",
       "      <th>1</th>\n",
       "      <td>2019-07-13 13:05</td>\n",
       "      <td>상 품 S</td>\n",
       "      <td>NaN</td>\n",
       "      <td>김우찬</td>\n",
       "    </tr>\n",
       "    <tr>\n",
       "      <th>2</th>\n",
       "      <td>2019-05-11 19:42</td>\n",
       "      <td>상 품 a</td>\n",
       "      <td>NaN</td>\n",
       "      <td>김유찬</td>\n",
       "    </tr>\n",
       "    <tr>\n",
       "      <th>3</th>\n",
       "      <td>2019-02-12 23:40</td>\n",
       "      <td>상품Z</td>\n",
       "      <td>2600.0</td>\n",
       "      <td>김재현</td>\n",
       "    </tr>\n",
       "    <tr>\n",
       "      <th>4</th>\n",
       "      <td>2019-04-22 3:09</td>\n",
       "      <td>상품a</td>\n",
       "      <td>NaN</td>\n",
       "      <td>김강현</td>\n",
       "    </tr>\n",
       "  </tbody>\n",
       "</table>\n",
       "</div>"
      ],
      "text/plain": [
       "      purchase_date item_name  item_price customer_name\n",
       "0  2019-06-13 18:02       상품A       100.0           김가온\n",
       "1  2019-07-13 13:05     상 품 S         NaN           김우찬\n",
       "2  2019-05-11 19:42     상 품 a         NaN           김유찬\n",
       "3  2019-02-12 23:40       상품Z      2600.0           김재현\n",
       "4   2019-04-22 3:09       상품a         NaN           김강현"
      ]
     },
     "execution_count": 114,
     "metadata": {},
     "output_type": "execute_result"
    }
   ],
   "source": [
    "## 파일 로드\n",
    "uriage = pd.read_csv(\"../csv/uriage.csv\")\n",
    "uriage.head()  # 데이터가 문제가 많은 것을 볼 수 있음..결측치도 있고..item name 도 대/소문자..빈칸들도 있고 없고..."
   ]
  },
  {
   "cell_type": "code",
   "execution_count": 115,
   "metadata": {},
   "outputs": [
    {
     "data": {
      "text/plain": [
       "purchase_date      0\n",
       "item_name          0\n",
       "item_price       387\n",
       "customer_name      0\n",
       "dtype: int64"
      ]
     },
     "execution_count": 115,
     "metadata": {},
     "output_type": "execute_result"
    }
   ],
   "source": [
    "## 결측치 확인\n",
    "uriage.isna().sum() # sum() 을 빼면 결측치 가 있는 것을 다 볼 수 있고 .sum() 을 하면 어디에 얼마나 결측치가 있는지 한눈에 봄"
   ]
  },
  {
   "cell_type": "code",
   "execution_count": 116,
   "metadata": {},
   "outputs": [
    {
     "name": "stdout",
     "output_type": "stream",
     "text": [
      "<class 'pandas.core.frame.DataFrame'>\n",
      "RangeIndex: 2999 entries, 0 to 2998\n",
      "Data columns (total 4 columns):\n",
      " #   Column         Non-Null Count  Dtype  \n",
      "---  ------         --------------  -----  \n",
      " 0   purchase_date  2999 non-null   object \n",
      " 1   item_name      2999 non-null   object \n",
      " 2   item_price     2612 non-null   float64\n",
      " 3   customer_name  2999 non-null   object \n",
      "dtypes: float64(1), object(3)\n",
      "memory usage: 93.8+ KB\n"
     ]
    }
   ],
   "source": [
    "uriage.info() # 데이터 확인 가능 . purchase_date 가 시계열이 아닌 문자열(\"object\") 로 되어있다고 확인 가능함"
   ]
  },
  {
   "cell_type": "code",
   "execution_count": 117,
   "metadata": {},
   "outputs": [],
   "source": [
    "# 1. purchase_date 컬럼의 데이터 타입을 시계열 데이터로 변경\n",
    "# 2. item_name 의 데이터를 모두 대문자로 변경\n",
    "# 3. item_name 의 데이터에서 공백을 삭제\n",
    "# 4. item_name 을 기준으로 오름차순 정렬\n",
    "# 5. 인덱스를 초기화(기존의 인덱스는 삭제)"
   ]
  },
  {
   "cell_type": "code",
   "execution_count": 118,
   "metadata": {},
   "outputs": [],
   "source": [
    "## 1. 시계열 데이터로 변경\n",
    "## pd.to_datetime(변경할 데이터, format='데이터의 형태') 함수 사용하여 데이터를 시계열로 변경\n",
    "## pd.to_datetime(uriage['purchase_date'],\n",
    "               # format = '%Y-%m-%d %H:%M')  # 원본의 purchase_date 의 형태 그대로 적어줘야 됨. 뛰우기, '-' 등 모두..\n",
    "               # 대문자 Y 는 네자리 연도수, 소문자 y 는 두자리 연도수 형태\n",
    "               # H 대문자는 24시간 소문자는 12시간 형태\n",
    "               # 이것은 실행이 아니고 확인하는 것\n",
    "uriage['purchase_date'] = pd.to_datetime(uriage['purchase_date'],\n",
    "               format = '%Y-%m-%d %H:%M')"
   ]
  },
  {
   "cell_type": "code",
   "execution_count": 119,
   "metadata": {},
   "outputs": [
    {
     "name": "stdout",
     "output_type": "stream",
     "text": [
      "<class 'pandas.core.frame.DataFrame'>\n",
      "RangeIndex: 2999 entries, 0 to 2998\n",
      "Data columns (total 4 columns):\n",
      " #   Column         Non-Null Count  Dtype         \n",
      "---  ------         --------------  -----         \n",
      " 0   purchase_date  2999 non-null   datetime64[ns]\n",
      " 1   item_name      2999 non-null   object        \n",
      " 2   item_price     2612 non-null   float64       \n",
      " 3   customer_name  2999 non-null   object        \n",
      "dtypes: datetime64[ns](1), float64(1), object(2)\n",
      "memory usage: 93.8+ KB\n"
     ]
    }
   ],
   "source": [
    "uriage.info() # 아래에서 datetime64 형태로 변경된 것을 볼 수 있음"
   ]
  },
  {
   "cell_type": "code",
   "execution_count": 120,
   "metadata": {},
   "outputs": [
    {
     "data": {
      "text/plain": [
       "0         상품A\n",
       "1       상 품 S\n",
       "2       상 품 A\n",
       "3         상품Z\n",
       "4         상품A\n",
       "        ...  \n",
       "2994      상품Y\n",
       "2995      상품M\n",
       "2996      상품Q\n",
       "2997      상품H\n",
       "2998      상품D\n",
       "Name: item_name, Length: 2999, dtype: object"
      ]
     },
     "execution_count": 120,
     "metadata": {},
     "output_type": "execute_result"
    }
   ],
   "source": [
    "## 2. item_name 칼럼의 데이터를 대문자로 변경\n",
    "## uriage['item_name'].upper() # upper 는 그냥 문자열 하나하나 에는 사용가능하나 스리즈 전체를 다 적용하는 것에는 에러가 남 그래서..\n",
    "                               # 아래의 각 case 로...\n",
    "# case. 1\n",
    "uriage['item_name'].str.upper() # 스리즈 안에 있는 문자열을 바꾼다는 표시\n",
    "\n",
    "# case. 2\n",
    "# apply() : 스리즈 형태의 데이터를 항목 하나하나 씩 함수에 대입하여 출력값을 스리즈의 형태로 변경하여 출력하는 함수\n",
    "           # apply 함수안에 함수를 호출해줘야 함\n",
    "\n",
    "## 일반 함수 생성\n",
    "def change(x):\n",
    "    return x.upper()\n",
    "\n",
    "uriage['item_name'].apply(change) # 함수를 호출할 때는 인자를 넣어줘야 하는데..change 에 인자를 안넣은 것은 apply 가 인자를 적용해주는 함수\n",
    "\n",
    "# case. 3 : lambda 함수를 apply 안에 사용하여 위의 case 2 를 한줄로 간단히\n",
    "## apply(lambda 함수)\n",
    "uriage['item_name'].apply(lambda x : x.upper())\n",
    "\n",
    "## 위의 것 모두 결과만 조회한 것이고 data 가 바뀌진 않았음"
   ]
  },
  {
   "cell_type": "code",
   "execution_count": 121,
   "metadata": {},
   "outputs": [
    {
     "data": {
      "text/plain": [
       "0       상품A\n",
       "1       상품S\n",
       "2       상품a\n",
       "3       상품Z\n",
       "4       상품a\n",
       "       ... \n",
       "2994    상품Y\n",
       "2995    상품M\n",
       "2996    상품Q\n",
       "2997    상품H\n",
       "2998    상품D\n",
       "Name: item_name, Length: 2999, dtype: object"
      ]
     },
     "execution_count": 121,
     "metadata": {},
     "output_type": "execute_result"
    }
   ],
   "source": [
    "## 공백제거\n",
    "## 문자열 사이의 공백도 삭제해야되기 때문에 replace(\" \",\"\") 사용해야 함. \n",
    "\n",
    "# case. 1\n",
    "uriage['item_name'].str.replace(\" \",\"\")\n",
    "\n",
    "# case. 2\n",
    "def change(x):\n",
    "    return x.replace(\" \",\"\")\n",
    "\n",
    "uriage['item_name'].apply(change)\n",
    "\n",
    "# case. 3\n",
    "\n",
    "uriage['item_name'].apply(lambda x : x.replace(\" \",\"\"))\n",
    "\n",
    "## 위의 것 모두 결과만 조회한 것이고 data 가 바뀌진 않았음"
   ]
  },
  {
   "cell_type": "code",
   "execution_count": 122,
   "metadata": {},
   "outputs": [],
   "source": [
    "## 대문자로 변경하고 공백제거 2개의 행동을 한번에 하는 방법(내가 한 방법)\n",
    "\n",
    "## uriage['item_name'] = uriage['item_name'].apply(lambda x : x.upper())   \n",
    "## uriage['item_name'] = uriage['item_name'].apply(lambda x : x.replace(\" \",\"\"))"
   ]
  },
  {
   "cell_type": "code",
   "execution_count": 123,
   "metadata": {},
   "outputs": [
    {
     "data": {
      "text/plain": [
       "0       상품A\n",
       "1       상품S\n",
       "2       상품A\n",
       "3       상품Z\n",
       "4       상품A\n",
       "       ... \n",
       "2994    상품Y\n",
       "2995    상품M\n",
       "2996    상품Q\n",
       "2997    상품H\n",
       "2998    상품D\n",
       "Name: item_name, Length: 2999, dtype: object"
      ]
     },
     "execution_count": 123,
     "metadata": {},
     "output_type": "execute_result"
    }
   ],
   "source": [
    "## 대문자로 변경하고 공백제거 2개의 행동을 한번에 하는 방법(강사 방법)\n",
    "# case 1\n",
    "uriage['item_name'].str.upper().str.replace(\" \",\"\") # 실행 결과를 보여주기만 한 것\n",
    "# case 2\n",
    "def change(x):\n",
    "    # result = x.upper().replace(\" \",\"\") 또는\n",
    "    result = x.upper()\n",
    "    result = result.replace(\" \",\"\")\n",
    "    return result\n",
    "\n",
    "uriage['item_name'].apply(change)\n",
    "# case 3\n",
    "uriage['item_name'].apply(lambda x : x.upper().replace(\" \",\"\")) # upper replace 를 따로 쓰려면 lambda 를 두번 써야 함)"
   ]
  },
  {
   "cell_type": "code",
   "execution_count": 124,
   "metadata": {},
   "outputs": [],
   "source": [
    "uriage['item_name'] = uriage['item_name'].apply(lambda x : x.upper().replace(\" \",\"\")) # 위의 방법으로 이제 data 를 바꿔버린 것"
   ]
  },
  {
   "cell_type": "code",
   "execution_count": 125,
   "metadata": {},
   "outputs": [],
   "source": [
    "# 4. item_name 을 기준으로 오름차순 정렬로 변경\n",
    "uriage.sort_values(['item_name'], inplace=True) # 오름차순이 기본이라 굳이 ascending 안적어줘도 됨\n"
   ]
  },
  {
   "cell_type": "code",
   "execution_count": 126,
   "metadata": {},
   "outputs": [],
   "source": [
    "# 5. 인덱스를 초기화(기존의 인덱스는 삭제)\n",
    "uriage.reset_index(drop=True, inplace = True) # inplace = True 를 빼고 먼저 확인하는 것이 좋음"
   ]
  },
  {
   "cell_type": "code",
   "execution_count": 127,
   "metadata": {},
   "outputs": [],
   "source": [
    "# 결측치에 데이터를 치환\n",
    "# 1. 상품A 의 item_price 의 값은 결측치 중 상품이 A 이면 상품A 의 평균 값을 치환(현재 DATA 에서는 상품 A 의 값이 모두 동일)\n",
    "# 2. 나머지 상품들도 같은 값으로 치환\n",
    "# 상품A 부터 Z 까지 평균값을 먼저 다 구해야하므로 같은 작업을 반복하는 반복문도 사용해야함"
   ]
  },
  {
   "cell_type": "code",
   "execution_count": 128,
   "metadata": {},
   "outputs": [
    {
     "data": {
      "text/plain": [
       "0        True\n",
       "1        True\n",
       "2        True\n",
       "3        True\n",
       "4        True\n",
       "        ...  \n",
       "2994    False\n",
       "2995    False\n",
       "2996    False\n",
       "2997    False\n",
       "2998    False\n",
       "Name: item_name, Length: 2999, dtype: bool"
      ]
     },
     "execution_count": 128,
     "metadata": {},
     "output_type": "execute_result"
    }
   ],
   "source": [
    "## Item_name 이 상품A 인 경우만 추출\n",
    "\n",
    "uriage['item_name'] == '상품A'"
   ]
  },
  {
   "cell_type": "code",
   "execution_count": 129,
   "metadata": {},
   "outputs": [],
   "source": [
    "fig = uriage['item_name'] == '상품A'"
   ]
  },
  {
   "cell_type": "code",
   "execution_count": 130,
   "metadata": {},
   "outputs": [
    {
     "data": {
      "text/html": [
       "<div>\n",
       "<style scoped>\n",
       "    .dataframe tbody tr th:only-of-type {\n",
       "        vertical-align: middle;\n",
       "    }\n",
       "\n",
       "    .dataframe tbody tr th {\n",
       "        vertical-align: top;\n",
       "    }\n",
       "\n",
       "    .dataframe thead th {\n",
       "        text-align: right;\n",
       "    }\n",
       "</style>\n",
       "<table border=\"1\" class=\"dataframe\">\n",
       "  <thead>\n",
       "    <tr style=\"text-align: right;\">\n",
       "      <th></th>\n",
       "      <th>purchase_date</th>\n",
       "      <th>item_name</th>\n",
       "      <th>item_price</th>\n",
       "      <th>customer_name</th>\n",
       "    </tr>\n",
       "  </thead>\n",
       "  <tbody>\n",
       "    <tr>\n",
       "      <th>0</th>\n",
       "      <td>2019-06-13 18:02:00</td>\n",
       "      <td>상품A</td>\n",
       "      <td>100.0</td>\n",
       "      <td>김가온</td>\n",
       "    </tr>\n",
       "    <tr>\n",
       "      <th>1</th>\n",
       "      <td>2019-05-19 20:22:00</td>\n",
       "      <td>상품A</td>\n",
       "      <td>100.0</td>\n",
       "      <td>김시훈</td>\n",
       "    </tr>\n",
       "    <tr>\n",
       "      <th>2</th>\n",
       "      <td>2019-06-25 08:13:00</td>\n",
       "      <td>상품A</td>\n",
       "      <td>100.0</td>\n",
       "      <td>김유진</td>\n",
       "    </tr>\n",
       "    <tr>\n",
       "      <th>3</th>\n",
       "      <td>2019-06-13 16:03:00</td>\n",
       "      <td>상품A</td>\n",
       "      <td>100.0</td>\n",
       "      <td>김건희</td>\n",
       "    </tr>\n",
       "    <tr>\n",
       "      <th>4</th>\n",
       "      <td>2019-02-10 00:28:00</td>\n",
       "      <td>상품A</td>\n",
       "      <td>100.0</td>\n",
       "      <td>김하랑</td>\n",
       "    </tr>\n",
       "    <tr>\n",
       "      <th>...</th>\n",
       "      <td>...</td>\n",
       "      <td>...</td>\n",
       "      <td>...</td>\n",
       "      <td>...</td>\n",
       "    </tr>\n",
       "    <tr>\n",
       "      <th>134</th>\n",
       "      <td>2019-01-13 11:50:00</td>\n",
       "      <td>상품A</td>\n",
       "      <td>100.0</td>\n",
       "      <td>김시율</td>\n",
       "    </tr>\n",
       "    <tr>\n",
       "      <th>135</th>\n",
       "      <td>2019-03-09 14:20:00</td>\n",
       "      <td>상품A</td>\n",
       "      <td>NaN</td>\n",
       "      <td>김우찬</td>\n",
       "    </tr>\n",
       "    <tr>\n",
       "      <th>136</th>\n",
       "      <td>2019-05-11 19:42:00</td>\n",
       "      <td>상품A</td>\n",
       "      <td>NaN</td>\n",
       "      <td>김유찬</td>\n",
       "    </tr>\n",
       "    <tr>\n",
       "      <th>137</th>\n",
       "      <td>2019-04-25 17:15:00</td>\n",
       "      <td>상품A</td>\n",
       "      <td>100.0</td>\n",
       "      <td>김강현</td>\n",
       "    </tr>\n",
       "    <tr>\n",
       "      <th>138</th>\n",
       "      <td>2019-05-20 14:05:00</td>\n",
       "      <td>상품A</td>\n",
       "      <td>100.0</td>\n",
       "      <td>김지안</td>\n",
       "    </tr>\n",
       "  </tbody>\n",
       "</table>\n",
       "<p>139 rows × 4 columns</p>\n",
       "</div>"
      ],
      "text/plain": [
       "          purchase_date item_name  item_price customer_name\n",
       "0   2019-06-13 18:02:00       상품A       100.0           김가온\n",
       "1   2019-05-19 20:22:00       상품A       100.0           김시훈\n",
       "2   2019-06-25 08:13:00       상품A       100.0           김유진\n",
       "3   2019-06-13 16:03:00       상품A       100.0           김건희\n",
       "4   2019-02-10 00:28:00       상품A       100.0           김하랑\n",
       "..                  ...       ...         ...           ...\n",
       "134 2019-01-13 11:50:00       상품A       100.0           김시율\n",
       "135 2019-03-09 14:20:00       상품A         NaN           김우찬\n",
       "136 2019-05-11 19:42:00       상품A         NaN           김유찬\n",
       "137 2019-04-25 17:15:00       상품A       100.0           김강현\n",
       "138 2019-05-20 14:05:00       상품A       100.0           김지안\n",
       "\n",
       "[139 rows x 4 columns]"
      ]
     },
     "execution_count": 130,
     "metadata": {},
     "output_type": "execute_result"
    }
   ],
   "source": [
    "uriage.loc[fig] # 상품이 A 인 것의 Location 만 보여주는 것"
   ]
  },
  {
   "cell_type": "code",
   "execution_count": 131,
   "metadata": {},
   "outputs": [
    {
     "data": {
      "text/plain": [
       "0      False\n",
       "1      False\n",
       "2      False\n",
       "3      False\n",
       "4      False\n",
       "       ...  \n",
       "134    False\n",
       "135     True\n",
       "136     True\n",
       "137    False\n",
       "138    False\n",
       "Name: item_price, Length: 139, dtype: bool"
      ]
     },
     "execution_count": 131,
     "metadata": {},
     "output_type": "execute_result"
    }
   ],
   "source": [
    "uriage.loc[fig,'item_price'].isna() # 상품A 이고 결측치 item_price 가 결측치인 경우 True"
   ]
  },
  {
   "cell_type": "code",
   "execution_count": 132,
   "metadata": {},
   "outputs": [],
   "source": [
    "fig2 = uriage.loc[fig,'item_price'].isna() # 상품A 이고 결측치 item_price 가 결측치인 경우 True 인것만 fig2 라는 변수값을 만들어주고.."
   ]
  },
  {
   "cell_type": "code",
   "execution_count": 133,
   "metadata": {},
   "outputs": [
    {
     "data": {
      "text/html": [
       "<div>\n",
       "<style scoped>\n",
       "    .dataframe tbody tr th:only-of-type {\n",
       "        vertical-align: middle;\n",
       "    }\n",
       "\n",
       "    .dataframe tbody tr th {\n",
       "        vertical-align: top;\n",
       "    }\n",
       "\n",
       "    .dataframe thead th {\n",
       "        text-align: right;\n",
       "    }\n",
       "</style>\n",
       "<table border=\"1\" class=\"dataframe\">\n",
       "  <thead>\n",
       "    <tr style=\"text-align: right;\">\n",
       "      <th></th>\n",
       "      <th>purchase_date</th>\n",
       "      <th>item_name</th>\n",
       "      <th>item_price</th>\n",
       "      <th>customer_name</th>\n",
       "    </tr>\n",
       "  </thead>\n",
       "  <tbody>\n",
       "    <tr>\n",
       "      <th>18</th>\n",
       "      <td>2019-04-11 02:22:00</td>\n",
       "      <td>상품A</td>\n",
       "      <td>NaN</td>\n",
       "      <td>김선우</td>\n",
       "    </tr>\n",
       "    <tr>\n",
       "      <th>22</th>\n",
       "      <td>2019-07-07 21:49:00</td>\n",
       "      <td>상품A</td>\n",
       "      <td>NaN</td>\n",
       "      <td>김은우</td>\n",
       "    </tr>\n",
       "    <tr>\n",
       "      <th>32</th>\n",
       "      <td>2019-07-14 03:39:00</td>\n",
       "      <td>상품A</td>\n",
       "      <td>NaN</td>\n",
       "      <td>김시우</td>\n",
       "    </tr>\n",
       "    <tr>\n",
       "      <th>38</th>\n",
       "      <td>2019-05-25 12:51:00</td>\n",
       "      <td>상품A</td>\n",
       "      <td>NaN</td>\n",
       "      <td>김재민</td>\n",
       "    </tr>\n",
       "    <tr>\n",
       "      <th>44</th>\n",
       "      <td>2019-02-28 04:11:00</td>\n",
       "      <td>상품A</td>\n",
       "      <td>NaN</td>\n",
       "      <td>김서준</td>\n",
       "    </tr>\n",
       "    <tr>\n",
       "      <th>46</th>\n",
       "      <td>2019-02-13 07:28:00</td>\n",
       "      <td>상품A</td>\n",
       "      <td>NaN</td>\n",
       "      <td>김시환</td>\n",
       "    </tr>\n",
       "    <tr>\n",
       "      <th>48</th>\n",
       "      <td>2019-07-31 01:32:00</td>\n",
       "      <td>상품A</td>\n",
       "      <td>NaN</td>\n",
       "      <td>김윤찬</td>\n",
       "    </tr>\n",
       "    <tr>\n",
       "      <th>51</th>\n",
       "      <td>2019-04-06 11:06:00</td>\n",
       "      <td>상품A</td>\n",
       "      <td>NaN</td>\n",
       "      <td>김태인</td>\n",
       "    </tr>\n",
       "    <tr>\n",
       "      <th>58</th>\n",
       "      <td>2019-03-15 09:14:00</td>\n",
       "      <td>상품A</td>\n",
       "      <td>NaN</td>\n",
       "      <td>김강현</td>\n",
       "    </tr>\n",
       "    <tr>\n",
       "      <th>59</th>\n",
       "      <td>2019-06-24 05:06:00</td>\n",
       "      <td>상품A</td>\n",
       "      <td>NaN</td>\n",
       "      <td>김시호</td>\n",
       "    </tr>\n",
       "    <tr>\n",
       "      <th>68</th>\n",
       "      <td>2019-03-16 17:23:00</td>\n",
       "      <td>상품A</td>\n",
       "      <td>NaN</td>\n",
       "      <td>김주원</td>\n",
       "    </tr>\n",
       "    <tr>\n",
       "      <th>86</th>\n",
       "      <td>2019-01-15 22:59:00</td>\n",
       "      <td>상품A</td>\n",
       "      <td>NaN</td>\n",
       "      <td>김하진</td>\n",
       "    </tr>\n",
       "    <tr>\n",
       "      <th>96</th>\n",
       "      <td>2019-01-21 03:33:00</td>\n",
       "      <td>상품A</td>\n",
       "      <td>NaN</td>\n",
       "      <td>김진우</td>\n",
       "    </tr>\n",
       "    <tr>\n",
       "      <th>102</th>\n",
       "      <td>2019-07-19 14:12:00</td>\n",
       "      <td>상품A</td>\n",
       "      <td>NaN</td>\n",
       "      <td>김서윤</td>\n",
       "    </tr>\n",
       "    <tr>\n",
       "      <th>110</th>\n",
       "      <td>2019-03-05 20:21:00</td>\n",
       "      <td>상품A</td>\n",
       "      <td>NaN</td>\n",
       "      <td>김주혁</td>\n",
       "    </tr>\n",
       "    <tr>\n",
       "      <th>112</th>\n",
       "      <td>2019-05-18 19:16:00</td>\n",
       "      <td>상품A</td>\n",
       "      <td>NaN</td>\n",
       "      <td>김재준</td>\n",
       "    </tr>\n",
       "    <tr>\n",
       "      <th>115</th>\n",
       "      <td>2019-01-28 22:13:00</td>\n",
       "      <td>상품A</td>\n",
       "      <td>NaN</td>\n",
       "      <td>김윤호</td>\n",
       "    </tr>\n",
       "    <tr>\n",
       "      <th>118</th>\n",
       "      <td>2019-06-11 12:57:00</td>\n",
       "      <td>상품A</td>\n",
       "      <td>NaN</td>\n",
       "      <td>김재호</td>\n",
       "    </tr>\n",
       "    <tr>\n",
       "      <th>128</th>\n",
       "      <td>2019-04-22 03:09:00</td>\n",
       "      <td>상품A</td>\n",
       "      <td>NaN</td>\n",
       "      <td>김강현</td>\n",
       "    </tr>\n",
       "    <tr>\n",
       "      <th>132</th>\n",
       "      <td>2019-06-21 11:09:00</td>\n",
       "      <td>상품A</td>\n",
       "      <td>NaN</td>\n",
       "      <td>김승훈</td>\n",
       "    </tr>\n",
       "    <tr>\n",
       "      <th>135</th>\n",
       "      <td>2019-03-09 14:20:00</td>\n",
       "      <td>상품A</td>\n",
       "      <td>NaN</td>\n",
       "      <td>김우찬</td>\n",
       "    </tr>\n",
       "    <tr>\n",
       "      <th>136</th>\n",
       "      <td>2019-05-11 19:42:00</td>\n",
       "      <td>상품A</td>\n",
       "      <td>NaN</td>\n",
       "      <td>김유찬</td>\n",
       "    </tr>\n",
       "  </tbody>\n",
       "</table>\n",
       "</div>"
      ],
      "text/plain": [
       "          purchase_date item_name  item_price customer_name\n",
       "18  2019-04-11 02:22:00       상품A         NaN           김선우\n",
       "22  2019-07-07 21:49:00       상품A         NaN           김은우\n",
       "32  2019-07-14 03:39:00       상품A         NaN           김시우\n",
       "38  2019-05-25 12:51:00       상품A         NaN           김재민\n",
       "44  2019-02-28 04:11:00       상품A         NaN           김서준\n",
       "46  2019-02-13 07:28:00       상품A         NaN           김시환\n",
       "48  2019-07-31 01:32:00       상품A         NaN           김윤찬\n",
       "51  2019-04-06 11:06:00       상품A         NaN           김태인\n",
       "58  2019-03-15 09:14:00       상품A         NaN           김강현\n",
       "59  2019-06-24 05:06:00       상품A         NaN           김시호\n",
       "68  2019-03-16 17:23:00       상품A         NaN           김주원\n",
       "86  2019-01-15 22:59:00       상품A         NaN           김하진\n",
       "96  2019-01-21 03:33:00       상품A         NaN           김진우\n",
       "102 2019-07-19 14:12:00       상품A         NaN           김서윤\n",
       "110 2019-03-05 20:21:00       상품A         NaN           김주혁\n",
       "112 2019-05-18 19:16:00       상품A         NaN           김재준\n",
       "115 2019-01-28 22:13:00       상품A         NaN           김윤호\n",
       "118 2019-06-11 12:57:00       상품A         NaN           김재호\n",
       "128 2019-04-22 03:09:00       상품A         NaN           김강현\n",
       "132 2019-06-21 11:09:00       상품A         NaN           김승훈\n",
       "135 2019-03-09 14:20:00       상품A         NaN           김우찬\n",
       "136 2019-05-11 19:42:00       상품A         NaN           김유찬"
      ]
     },
     "execution_count": 133,
     "metadata": {},
     "output_type": "execute_result"
    }
   ],
   "source": [
    "uriage.loc[fig].loc[fig2] # fig 에서 fig2 만 보여주는 것"
   ]
  },
  {
   "cell_type": "code",
   "execution_count": 134,
   "metadata": {},
   "outputs": [],
   "source": [
    "## 조건식 2개 \n",
    "fig = uriage['item_name'] =='상품A'\n",
    "fig2 = uriage['item_price'].isna()"
   ]
  },
  {
   "cell_type": "code",
   "execution_count": 135,
   "metadata": {},
   "outputs": [
    {
     "data": {
      "text/html": [
       "<div>\n",
       "<style scoped>\n",
       "    .dataframe tbody tr th:only-of-type {\n",
       "        vertical-align: middle;\n",
       "    }\n",
       "\n",
       "    .dataframe tbody tr th {\n",
       "        vertical-align: top;\n",
       "    }\n",
       "\n",
       "    .dataframe thead th {\n",
       "        text-align: right;\n",
       "    }\n",
       "</style>\n",
       "<table border=\"1\" class=\"dataframe\">\n",
       "  <thead>\n",
       "    <tr style=\"text-align: right;\">\n",
       "      <th></th>\n",
       "      <th>purchase_date</th>\n",
       "      <th>item_name</th>\n",
       "      <th>item_price</th>\n",
       "      <th>customer_name</th>\n",
       "    </tr>\n",
       "  </thead>\n",
       "  <tbody>\n",
       "    <tr>\n",
       "      <th>0</th>\n",
       "      <td>2019-06-13 18:02:00</td>\n",
       "      <td>상품A</td>\n",
       "      <td>100.0</td>\n",
       "      <td>김가온</td>\n",
       "    </tr>\n",
       "    <tr>\n",
       "      <th>1</th>\n",
       "      <td>2019-05-19 20:22:00</td>\n",
       "      <td>상품A</td>\n",
       "      <td>100.0</td>\n",
       "      <td>김시훈</td>\n",
       "    </tr>\n",
       "    <tr>\n",
       "      <th>2</th>\n",
       "      <td>2019-06-25 08:13:00</td>\n",
       "      <td>상품A</td>\n",
       "      <td>100.0</td>\n",
       "      <td>김유진</td>\n",
       "    </tr>\n",
       "    <tr>\n",
       "      <th>3</th>\n",
       "      <td>2019-06-13 16:03:00</td>\n",
       "      <td>상품A</td>\n",
       "      <td>100.0</td>\n",
       "      <td>김건희</td>\n",
       "    </tr>\n",
       "    <tr>\n",
       "      <th>4</th>\n",
       "      <td>2019-02-10 00:28:00</td>\n",
       "      <td>상품A</td>\n",
       "      <td>100.0</td>\n",
       "      <td>김하랑</td>\n",
       "    </tr>\n",
       "    <tr>\n",
       "      <th>...</th>\n",
       "      <td>...</td>\n",
       "      <td>...</td>\n",
       "      <td>...</td>\n",
       "      <td>...</td>\n",
       "    </tr>\n",
       "    <tr>\n",
       "      <th>131</th>\n",
       "      <td>2019-06-05 02:25:00</td>\n",
       "      <td>상품A</td>\n",
       "      <td>100.0</td>\n",
       "      <td>김현성</td>\n",
       "    </tr>\n",
       "    <tr>\n",
       "      <th>133</th>\n",
       "      <td>2019-06-24 02:56:00</td>\n",
       "      <td>상품A</td>\n",
       "      <td>100.0</td>\n",
       "      <td>김현진</td>\n",
       "    </tr>\n",
       "    <tr>\n",
       "      <th>134</th>\n",
       "      <td>2019-01-13 11:50:00</td>\n",
       "      <td>상품A</td>\n",
       "      <td>100.0</td>\n",
       "      <td>김시율</td>\n",
       "    </tr>\n",
       "    <tr>\n",
       "      <th>137</th>\n",
       "      <td>2019-04-25 17:15:00</td>\n",
       "      <td>상품A</td>\n",
       "      <td>100.0</td>\n",
       "      <td>김강현</td>\n",
       "    </tr>\n",
       "    <tr>\n",
       "      <th>138</th>\n",
       "      <td>2019-05-20 14:05:00</td>\n",
       "      <td>상품A</td>\n",
       "      <td>100.0</td>\n",
       "      <td>김지안</td>\n",
       "    </tr>\n",
       "  </tbody>\n",
       "</table>\n",
       "<p>117 rows × 4 columns</p>\n",
       "</div>"
      ],
      "text/plain": [
       "          purchase_date item_name  item_price customer_name\n",
       "0   2019-06-13 18:02:00       상품A       100.0           김가온\n",
       "1   2019-05-19 20:22:00       상품A       100.0           김시훈\n",
       "2   2019-06-25 08:13:00       상품A       100.0           김유진\n",
       "3   2019-06-13 16:03:00       상품A       100.0           김건희\n",
       "4   2019-02-10 00:28:00       상품A       100.0           김하랑\n",
       "..                  ...       ...         ...           ...\n",
       "131 2019-06-05 02:25:00       상품A       100.0           김현성\n",
       "133 2019-06-24 02:56:00       상품A       100.0           김현진\n",
       "134 2019-01-13 11:50:00       상품A       100.0           김시율\n",
       "137 2019-04-25 17:15:00       상품A       100.0           김강현\n",
       "138 2019-05-20 14:05:00       상품A       100.0           김지안\n",
       "\n",
       "[117 rows x 4 columns]"
      ]
     },
     "execution_count": 135,
     "metadata": {},
     "output_type": "execute_result"
    }
   ],
   "source": [
    "uriage.loc[fig & fig2] # 상품이 a 이고 결측이의 값만 나옴. 위의 조건식 두개를 같이...\n",
    "uriage.loc[fig & ~fig2] # ~ 를 넣어주면 반대로 결측이 아닌 값만 나옴"
   ]
  },
  {
   "cell_type": "code",
   "execution_count": 136,
   "metadata": {},
   "outputs": [
    {
     "data": {
      "text/plain": [
       "100.0"
      ]
     },
     "execution_count": 136,
     "metadata": {},
     "output_type": "execute_result"
    }
   ],
   "source": [
    "## 상품이 A 인 경우 & 결측치가 아닌 경우에 item_price의 평균값을 구함\n",
    "a_price = uriage.loc[fig & ~ fig2, 'item_price'].mean()\n",
    "a_price"
   ]
  },
  {
   "cell_type": "code",
   "execution_count": 137,
   "metadata": {},
   "outputs": [
    {
     "data": {
      "text/html": [
       "<div>\n",
       "<style scoped>\n",
       "    .dataframe tbody tr th:only-of-type {\n",
       "        vertical-align: middle;\n",
       "    }\n",
       "\n",
       "    .dataframe tbody tr th {\n",
       "        vertical-align: top;\n",
       "    }\n",
       "\n",
       "    .dataframe thead th {\n",
       "        text-align: right;\n",
       "    }\n",
       "</style>\n",
       "<table border=\"1\" class=\"dataframe\">\n",
       "  <thead>\n",
       "    <tr style=\"text-align: right;\">\n",
       "      <th></th>\n",
       "      <th>purchase_date</th>\n",
       "      <th>item_name</th>\n",
       "      <th>item_price</th>\n",
       "      <th>customer_name</th>\n",
       "    </tr>\n",
       "  </thead>\n",
       "  <tbody>\n",
       "    <tr>\n",
       "      <th>18</th>\n",
       "      <td>2019-04-11 02:22:00</td>\n",
       "      <td>상품A</td>\n",
       "      <td>100.0</td>\n",
       "      <td>김선우</td>\n",
       "    </tr>\n",
       "    <tr>\n",
       "      <th>22</th>\n",
       "      <td>2019-07-07 21:49:00</td>\n",
       "      <td>상품A</td>\n",
       "      <td>100.0</td>\n",
       "      <td>김은우</td>\n",
       "    </tr>\n",
       "    <tr>\n",
       "      <th>32</th>\n",
       "      <td>2019-07-14 03:39:00</td>\n",
       "      <td>상품A</td>\n",
       "      <td>100.0</td>\n",
       "      <td>김시우</td>\n",
       "    </tr>\n",
       "    <tr>\n",
       "      <th>38</th>\n",
       "      <td>2019-05-25 12:51:00</td>\n",
       "      <td>상품A</td>\n",
       "      <td>100.0</td>\n",
       "      <td>김재민</td>\n",
       "    </tr>\n",
       "    <tr>\n",
       "      <th>44</th>\n",
       "      <td>2019-02-28 04:11:00</td>\n",
       "      <td>상품A</td>\n",
       "      <td>100.0</td>\n",
       "      <td>김서준</td>\n",
       "    </tr>\n",
       "    <tr>\n",
       "      <th>46</th>\n",
       "      <td>2019-02-13 07:28:00</td>\n",
       "      <td>상품A</td>\n",
       "      <td>100.0</td>\n",
       "      <td>김시환</td>\n",
       "    </tr>\n",
       "    <tr>\n",
       "      <th>48</th>\n",
       "      <td>2019-07-31 01:32:00</td>\n",
       "      <td>상품A</td>\n",
       "      <td>100.0</td>\n",
       "      <td>김윤찬</td>\n",
       "    </tr>\n",
       "    <tr>\n",
       "      <th>51</th>\n",
       "      <td>2019-04-06 11:06:00</td>\n",
       "      <td>상품A</td>\n",
       "      <td>100.0</td>\n",
       "      <td>김태인</td>\n",
       "    </tr>\n",
       "    <tr>\n",
       "      <th>58</th>\n",
       "      <td>2019-03-15 09:14:00</td>\n",
       "      <td>상품A</td>\n",
       "      <td>100.0</td>\n",
       "      <td>김강현</td>\n",
       "    </tr>\n",
       "    <tr>\n",
       "      <th>59</th>\n",
       "      <td>2019-06-24 05:06:00</td>\n",
       "      <td>상품A</td>\n",
       "      <td>100.0</td>\n",
       "      <td>김시호</td>\n",
       "    </tr>\n",
       "    <tr>\n",
       "      <th>68</th>\n",
       "      <td>2019-03-16 17:23:00</td>\n",
       "      <td>상품A</td>\n",
       "      <td>100.0</td>\n",
       "      <td>김주원</td>\n",
       "    </tr>\n",
       "    <tr>\n",
       "      <th>86</th>\n",
       "      <td>2019-01-15 22:59:00</td>\n",
       "      <td>상품A</td>\n",
       "      <td>100.0</td>\n",
       "      <td>김하진</td>\n",
       "    </tr>\n",
       "    <tr>\n",
       "      <th>96</th>\n",
       "      <td>2019-01-21 03:33:00</td>\n",
       "      <td>상품A</td>\n",
       "      <td>100.0</td>\n",
       "      <td>김진우</td>\n",
       "    </tr>\n",
       "    <tr>\n",
       "      <th>102</th>\n",
       "      <td>2019-07-19 14:12:00</td>\n",
       "      <td>상품A</td>\n",
       "      <td>100.0</td>\n",
       "      <td>김서윤</td>\n",
       "    </tr>\n",
       "    <tr>\n",
       "      <th>110</th>\n",
       "      <td>2019-03-05 20:21:00</td>\n",
       "      <td>상품A</td>\n",
       "      <td>100.0</td>\n",
       "      <td>김주혁</td>\n",
       "    </tr>\n",
       "    <tr>\n",
       "      <th>112</th>\n",
       "      <td>2019-05-18 19:16:00</td>\n",
       "      <td>상품A</td>\n",
       "      <td>100.0</td>\n",
       "      <td>김재준</td>\n",
       "    </tr>\n",
       "    <tr>\n",
       "      <th>115</th>\n",
       "      <td>2019-01-28 22:13:00</td>\n",
       "      <td>상품A</td>\n",
       "      <td>100.0</td>\n",
       "      <td>김윤호</td>\n",
       "    </tr>\n",
       "    <tr>\n",
       "      <th>118</th>\n",
       "      <td>2019-06-11 12:57:00</td>\n",
       "      <td>상품A</td>\n",
       "      <td>100.0</td>\n",
       "      <td>김재호</td>\n",
       "    </tr>\n",
       "    <tr>\n",
       "      <th>128</th>\n",
       "      <td>2019-04-22 03:09:00</td>\n",
       "      <td>상품A</td>\n",
       "      <td>100.0</td>\n",
       "      <td>김강현</td>\n",
       "    </tr>\n",
       "    <tr>\n",
       "      <th>132</th>\n",
       "      <td>2019-06-21 11:09:00</td>\n",
       "      <td>상품A</td>\n",
       "      <td>100.0</td>\n",
       "      <td>김승훈</td>\n",
       "    </tr>\n",
       "    <tr>\n",
       "      <th>135</th>\n",
       "      <td>2019-03-09 14:20:00</td>\n",
       "      <td>상품A</td>\n",
       "      <td>100.0</td>\n",
       "      <td>김우찬</td>\n",
       "    </tr>\n",
       "    <tr>\n",
       "      <th>136</th>\n",
       "      <td>2019-05-11 19:42:00</td>\n",
       "      <td>상품A</td>\n",
       "      <td>100.0</td>\n",
       "      <td>김유찬</td>\n",
       "    </tr>\n",
       "  </tbody>\n",
       "</table>\n",
       "</div>"
      ],
      "text/plain": [
       "          purchase_date item_name  item_price customer_name\n",
       "18  2019-04-11 02:22:00       상품A       100.0           김선우\n",
       "22  2019-07-07 21:49:00       상품A       100.0           김은우\n",
       "32  2019-07-14 03:39:00       상품A       100.0           김시우\n",
       "38  2019-05-25 12:51:00       상품A       100.0           김재민\n",
       "44  2019-02-28 04:11:00       상품A       100.0           김서준\n",
       "46  2019-02-13 07:28:00       상품A       100.0           김시환\n",
       "48  2019-07-31 01:32:00       상품A       100.0           김윤찬\n",
       "51  2019-04-06 11:06:00       상품A       100.0           김태인\n",
       "58  2019-03-15 09:14:00       상품A       100.0           김강현\n",
       "59  2019-06-24 05:06:00       상품A       100.0           김시호\n",
       "68  2019-03-16 17:23:00       상품A       100.0           김주원\n",
       "86  2019-01-15 22:59:00       상품A       100.0           김하진\n",
       "96  2019-01-21 03:33:00       상품A       100.0           김진우\n",
       "102 2019-07-19 14:12:00       상품A       100.0           김서윤\n",
       "110 2019-03-05 20:21:00       상품A       100.0           김주혁\n",
       "112 2019-05-18 19:16:00       상품A       100.0           김재준\n",
       "115 2019-01-28 22:13:00       상품A       100.0           김윤호\n",
       "118 2019-06-11 12:57:00       상품A       100.0           김재호\n",
       "128 2019-04-22 03:09:00       상품A       100.0           김강현\n",
       "132 2019-06-21 11:09:00       상품A       100.0           김승훈\n",
       "135 2019-03-09 14:20:00       상품A       100.0           김우찬\n",
       "136 2019-05-11 19:42:00       상품A       100.0           김유찬"
      ]
     },
     "execution_count": 137,
     "metadata": {},
     "output_type": "execute_result"
    }
   ],
   "source": [
    "## 상품A 이고 결측치인 item_price 가 결측치인 값에 치환\n",
    "uriage.loc[fig & fig2].fillna(a_price) # fig 는 상품이 A 인 것 fig2 는 A 중 price가 결측치 만인 것"
   ]
  },
  {
   "cell_type": "code",
   "execution_count": 138,
   "metadata": {},
   "outputs": [
    {
     "data": {
      "text/plain": [
       "item_name\n",
       "상품S    140\n",
       "상품A    139\n",
       "상품R    136\n",
       "상품P    135\n",
       "상품V    134\n",
       "상품C    133\n",
       "상품F    126\n",
       "상품D    125\n",
       "상품Q    125\n",
       "상품O    124\n",
       "상품W    121\n",
       "상품N    119\n",
       "상품T    117\n",
       "상품J    116\n",
       "상품X    116\n",
       "상품I    114\n",
       "상품M    113\n",
       "상품B    113\n",
       "상품L    110\n",
       "상품G    110\n",
       "상품K    109\n",
       "상품H    109\n",
       "상품U    107\n",
       "상품E    105\n",
       "상품Y    102\n",
       "상품Z      1\n",
       "dtype: int64"
      ]
     },
     "execution_count": 138,
     "metadata": {},
     "output_type": "execute_result"
    }
   ],
   "source": [
    "uriage.value_counts('item_name') # 상품이 어떤 것이 있는지 확인할 수 있음\n",
    "# uriage.value_counts('item_name').index() 하면 더 간단함..각 상품의 건수는 빼고 상품 종류만 보여 줌"
   ]
  },
  {
   "cell_type": "code",
   "execution_count": 139,
   "metadata": {},
   "outputs": [
    {
     "data": {
      "text/plain": [
       "array(['상품A', '상품B', '상품C', '상품D', '상품E', '상품F', '상품G', '상품H', '상품I',\n",
       "       '상품J', '상품K', '상품L', '상품M', '상품N', '상품O', '상품P', '상품Q', '상품R',\n",
       "       '상품S', '상품T', '상품U', '상품V', '상품W', '상품X', '상품Y', '상품Z'],\n",
       "      dtype=object)"
      ]
     },
     "execution_count": 139,
     "metadata": {},
     "output_type": "execute_result"
    }
   ],
   "source": [
    "uriage['item_name'].unique()"
   ]
  },
  {
   "cell_type": "code",
   "execution_count": 140,
   "metadata": {},
   "outputs": [],
   "source": [
    "name_list = uriage['item_name'].unique() # name_list 라는 변수를 만들어 위의 결과값을 가지고 있게 함"
   ]
  },
  {
   "cell_type": "code",
   "execution_count": 141,
   "metadata": {},
   "outputs": [],
   "source": [
    "## 반복문을 이용하여 모든 결측치를 치환\n",
    "uriage2 = uriage.copy()"
   ]
  },
  {
   "cell_type": "code",
   "execution_count": 142,
   "metadata": {},
   "outputs": [
    {
     "name": "stdout",
     "output_type": "stream",
     "text": [
      "상품A\n",
      "상품B\n",
      "상품C\n",
      "상품D\n",
      "상품E\n",
      "상품F\n",
      "상품G\n",
      "상품H\n",
      "상품I\n",
      "상품J\n",
      "상품K\n",
      "상품L\n",
      "상품M\n",
      "상품N\n",
      "상품O\n",
      "상품P\n",
      "상품Q\n",
      "상품R\n",
      "상품S\n",
      "상품T\n",
      "상품U\n",
      "상품V\n",
      "상품W\n",
      "상품X\n",
      "상품Y\n",
      "상품Z\n"
     ]
    }
   ],
   "source": [
    "for i in name_list:\n",
    "    print(i)"
   ]
  },
  {
   "cell_type": "code",
   "execution_count": 143,
   "metadata": {},
   "outputs": [],
   "source": [
    "for i in name_list:\n",
    "    # 조건식 생성\n",
    "    fig = uriage['item_name'] == i\n",
    "    fig2 = uriage['item_price'].isna()\n",
    "\n",
    "    # fig 와 ~fig2 의 조건식이 모두 참일때의 item_price 평균 값\n",
    "    mean_price = uriage.loc[fig & ~fig2, 'item_price'].mean()\n",
    "    # fig 와 fig2 의 ㅣ조건식이 모두 참인 경우 item_price 에 mean_price 의 값으로 대체\n",
    "    uriage.loc[fig & fig2, 'item_price'] = mean_price # loc[fig & fig2, 'item_price'] 는 결측치만 찾은 것"
   ]
  },
  {
   "cell_type": "code",
   "execution_count": 144,
   "metadata": {},
   "outputs": [
    {
     "data": {
      "text/plain": [
       "purchase_date    0\n",
       "item_name        0\n",
       "item_price       0\n",
       "customer_name    0\n",
       "dtype: int64"
      ]
     },
     "execution_count": 144,
     "metadata": {},
     "output_type": "execute_result"
    }
   ],
   "source": [
    "uriage.isna().sum() # 결측치가 다 사라진 것을 볼 수 있음"
   ]
  },
  {
   "cell_type": "code",
   "execution_count": 145,
   "metadata": {},
   "outputs": [],
   "source": [
    "# 함수를 만들때는 어떤 것을 고정변수로 어떤 것을 가변 변수로 할 것인지 먼저 고민해야 함..\n",
    "\n",
    "def change(df, x): # 위의 DataFrame(uriage) 을 변수로 할 것이라 생각하여 df 로 상징적으로 사용, item_name 은 고정변수로 결정 함\n",
    "    ## 조건식 생성\n",
    "    fig = df['item_name'] == x # x 변수를 for 문의 i 로 사용 하기 때문...\n",
    "    fig2 = df['item_price'].isna()\n",
    "\n",
    "    ## fig 그리고 ~fig 인경우 item_price 의 평균\n",
    "    mean_price = df.loc[fig & ~fig2, 'item_price'].mean()\n",
    "\n",
    "    ## 평균값을 결측치에 대체\n",
    "    df.loc[fig & fig2, 'item_price'] = mean_price"
   ]
  },
  {
   "cell_type": "code",
   "execution_count": 146,
   "metadata": {},
   "outputs": [],
   "source": [
    "# 위와 같이 함수를 만들고 for 문을 만들면 됨. 위의 함수에 return 을 안만든 것은 df 이 어짜피 계속 바뀔 것이기 때문에라고 함...."
   ]
  },
  {
   "cell_type": "code",
   "execution_count": 149,
   "metadata": {},
   "outputs": [
    {
     "data": {
      "text/plain": [
       "purchase_date      0\n",
       "item_name          0\n",
       "item_price       387\n",
       "customer_name      0\n",
       "dtype: int64"
      ]
     },
     "execution_count": 149,
     "metadata": {},
     "output_type": "execute_result"
    }
   ],
   "source": [
    "uriage2.isna().sum() # 결측치 있는 것 볼 수 있음"
   ]
  },
  {
   "cell_type": "code",
   "execution_count": 150,
   "metadata": {},
   "outputs": [],
   "source": [
    "for i in name_list:\n",
    "  change(uriage2,i)"
   ]
  },
  {
   "cell_type": "code",
   "execution_count": 151,
   "metadata": {},
   "outputs": [
    {
     "data": {
      "text/plain": [
       "purchase_date    0\n",
       "item_name        0\n",
       "item_price       0\n",
       "customer_name    0\n",
       "dtype: int64"
      ]
     },
     "execution_count": 151,
     "metadata": {},
     "output_type": "execute_result"
    }
   ],
   "source": [
    "uriage2.isna().sum() # 결측치 사라진 것 볼 수 있음"
   ]
  },
  {
   "cell_type": "code",
   "execution_count": 153,
   "metadata": {},
   "outputs": [
    {
     "data": {
      "text/html": [
       "<div>\n",
       "<style scoped>\n",
       "    .dataframe tbody tr th:only-of-type {\n",
       "        vertical-align: middle;\n",
       "    }\n",
       "\n",
       "    .dataframe tbody tr th {\n",
       "        vertical-align: top;\n",
       "    }\n",
       "\n",
       "    .dataframe thead th {\n",
       "        text-align: right;\n",
       "    }\n",
       "</style>\n",
       "<table border=\"1\" class=\"dataframe\">\n",
       "  <thead>\n",
       "    <tr style=\"text-align: right;\">\n",
       "      <th></th>\n",
       "      <th>purchase_date</th>\n",
       "      <th>item_name</th>\n",
       "      <th>item_price</th>\n",
       "      <th>customer_name</th>\n",
       "    </tr>\n",
       "  </thead>\n",
       "  <tbody>\n",
       "    <tr>\n",
       "      <th>139</th>\n",
       "      <td>2019-06-07 00:03:00</td>\n",
       "      <td>상품B</td>\n",
       "      <td>200.0</td>\n",
       "      <td>김재희</td>\n",
       "    </tr>\n",
       "    <tr>\n",
       "      <th>140</th>\n",
       "      <td>2019-03-15 06:06:00</td>\n",
       "      <td>상품B</td>\n",
       "      <td>200.0</td>\n",
       "      <td>김서윤</td>\n",
       "    </tr>\n",
       "    <tr>\n",
       "      <th>141</th>\n",
       "      <td>2019-06-25 03:12:00</td>\n",
       "      <td>상품B</td>\n",
       "      <td>200.0</td>\n",
       "      <td>김규민</td>\n",
       "    </tr>\n",
       "    <tr>\n",
       "      <th>142</th>\n",
       "      <td>2019-04-18 16:44:00</td>\n",
       "      <td>상품B</td>\n",
       "      <td>200.0</td>\n",
       "      <td>김유빈</td>\n",
       "    </tr>\n",
       "    <tr>\n",
       "      <th>143</th>\n",
       "      <td>2019-07-27 09:00:00</td>\n",
       "      <td>상품B</td>\n",
       "      <td>200.0</td>\n",
       "      <td>김현수</td>\n",
       "    </tr>\n",
       "    <tr>\n",
       "      <th>...</th>\n",
       "      <td>...</td>\n",
       "      <td>...</td>\n",
       "      <td>...</td>\n",
       "      <td>...</td>\n",
       "    </tr>\n",
       "    <tr>\n",
       "      <th>247</th>\n",
       "      <td>2019-02-17 01:46:00</td>\n",
       "      <td>상품B</td>\n",
       "      <td>200.0</td>\n",
       "      <td>김지완</td>\n",
       "    </tr>\n",
       "    <tr>\n",
       "      <th>248</th>\n",
       "      <td>2019-05-21 11:17:00</td>\n",
       "      <td>상품B</td>\n",
       "      <td>200.0</td>\n",
       "      <td>김태우</td>\n",
       "    </tr>\n",
       "    <tr>\n",
       "      <th>249</th>\n",
       "      <td>2019-07-02 07:39:00</td>\n",
       "      <td>상품B</td>\n",
       "      <td>200.0</td>\n",
       "      <td>김정민</td>\n",
       "    </tr>\n",
       "    <tr>\n",
       "      <th>250</th>\n",
       "      <td>2019-07-09 15:27:00</td>\n",
       "      <td>상품B</td>\n",
       "      <td>200.0</td>\n",
       "      <td>김성민</td>\n",
       "    </tr>\n",
       "    <tr>\n",
       "      <th>251</th>\n",
       "      <td>2019-01-20 19:05:00</td>\n",
       "      <td>상품B</td>\n",
       "      <td>200.0</td>\n",
       "      <td>김준호</td>\n",
       "    </tr>\n",
       "  </tbody>\n",
       "</table>\n",
       "<p>113 rows × 4 columns</p>\n",
       "</div>"
      ],
      "text/plain": [
       "          purchase_date item_name  item_price customer_name\n",
       "139 2019-06-07 00:03:00       상품B       200.0           김재희\n",
       "140 2019-03-15 06:06:00       상품B       200.0           김서윤\n",
       "141 2019-06-25 03:12:00       상품B       200.0           김규민\n",
       "142 2019-04-18 16:44:00       상품B       200.0           김유빈\n",
       "143 2019-07-27 09:00:00       상품B       200.0           김현수\n",
       "..                  ...       ...         ...           ...\n",
       "247 2019-02-17 01:46:00       상품B       200.0           김지완\n",
       "248 2019-05-21 11:17:00       상품B       200.0           김태우\n",
       "249 2019-07-02 07:39:00       상품B       200.0           김정민\n",
       "250 2019-07-09 15:27:00       상품B       200.0           김성민\n",
       "251 2019-01-20 19:05:00       상품B       200.0           김준호\n",
       "\n",
       "[113 rows x 4 columns]"
      ]
     },
     "execution_count": 153,
     "metadata": {},
     "output_type": "execute_result"
    }
   ],
   "source": [
    "uriage.query(\"item_name == '상품B'\") # query 함수도 ()에 조건식을 적어줌. \"\" 는 확실히 두대있는 따움표로 다 묶어줘야 됨(한개 아님)"
   ]
  },
  {
   "cell_type": "code",
   "execution_count": null,
   "metadata": {},
   "outputs": [],
   "source": []
  }
 ],
 "metadata": {
  "kernelspec": {
   "display_name": "Python 3",
   "language": "python",
   "name": "python3"
  },
  "language_info": {
   "codemirror_mode": {
    "name": "ipython",
    "version": 3
   },
   "file_extension": ".py",
   "mimetype": "text/x-python",
   "name": "python",
   "nbconvert_exporter": "python",
   "pygments_lexer": "ipython3",
   "version": "3.11.1"
  },
  "orig_nbformat": 4,
  "vscode": {
   "interpreter": {
    "hash": "c261aea317cc0286b3b3261fbba9abdec21eaa57589985bb7a274bf54d6cc0a7"
   }
  }
 },
 "nbformat": 4,
 "nbformat_minor": 2
}
