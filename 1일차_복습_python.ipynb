{
 "cells": [
  {
   "cell_type": "code",
   "execution_count": 79,
   "metadata": {},
   "outputs": [
    {
     "name": "stdout",
     "output_type": "stream",
     "text": [
      "55\n"
     ]
    }
   ],
   "source": [
    "sum=0\n",
    "for a in range(1,11,1):\n",
    "    sum+=a\n",
    "print(sum)"
   ]
  },
  {
   "cell_type": "code",
   "execution_count": 89,
   "metadata": {},
   "outputs": [
    {
     "name": "stdout",
     "output_type": "stream",
     "text": [
      "55\n"
     ]
    }
   ],
   "source": [
    "sum = 0\n",
    "a = 1\n",
    "\n",
    "while a < 11 :\n",
    "    sum +=a\n",
    "    a += 1\n",
    "print(sum)"
   ]
  },
  {
   "cell_type": "code",
   "execution_count": 94,
   "metadata": {},
   "outputs": [
    {
     "name": "stdout",
     "output_type": "stream",
     "text": [
      "1번째반복\n",
      "2번째반복\n",
      "3번째반복\n",
      "4번째반복\n",
      "5번째반복\n",
      "6번째반복\n"
     ]
    }
   ],
   "source": [
    "for a in range(1,10,1):\n",
    "    print(\"%d번째반복\"%a)\n",
    "    if a == 6 :\n",
    "        break"
   ]
  },
  {
   "cell_type": "code",
   "execution_count": null,
   "metadata": {},
   "outputs": [
    {
     "name": "stdout",
     "output_type": "stream",
     "text": [
      "2 X 1 = 2\n",
      "2 X 2 = 4\n",
      "2 X 3 = 6\n",
      "2 X 4 = 8\n",
      "2 X 5 = 10\n",
      "2 X 6 = 12\n",
      "2 X 7 = 14\n",
      "2 X 8 = 16\n",
      "2 X 9 = 18\n",
      "3 X 1 = 3\n",
      "3 X 2 = 6\n",
      "3 X 3 = 9\n",
      "3 X 4 = 12\n",
      "3 X 5 = 15\n",
      "3 X 6 = 18\n",
      "3 X 7 = 21\n",
      "3 X 8 = 24\n",
      "3 X 9 = 27\n",
      "4 X 1 = 4\n",
      "4 X 2 = 8\n",
      "4 X 3 = 12\n",
      "4 X 4 = 16\n",
      "4 X 5 = 20\n",
      "4 X 6 = 24\n",
      "4 X 7 = 28\n",
      "4 X 8 = 32\n",
      "4 X 9 = 36\n",
      "5 X 1 = 5\n",
      "5 X 2 = 10\n",
      "5 X 3 = 15\n",
      "5 X 4 = 20\n",
      "5 X 5 = 25\n",
      "5 X 6 = 30\n",
      "5 X 7 = 35\n",
      "5 X 8 = 40\n",
      "5 X 9 = 45\n",
      "6 X 1 = 6\n",
      "6 X 2 = 12\n",
      "6 X 3 = 18\n",
      "6 X 4 = 24\n",
      "6 X 5 = 30\n",
      "6 X 6 = 36\n",
      "6 X 7 = 42\n",
      "6 X 8 = 48\n",
      "6 X 9 = 54\n",
      "7 X 1 = 7\n",
      "7 X 2 = 14\n",
      "7 X 3 = 21\n",
      "7 X 4 = 28\n",
      "7 X 5 = 35\n",
      "7 X 6 = 42\n",
      "7 X 7 = 49\n",
      "7 X 8 = 56\n",
      "7 X 9 = 63\n",
      "8 X 1 = 8\n",
      "8 X 2 = 16\n",
      "8 X 3 = 24\n",
      "8 X 4 = 32\n",
      "8 X 5 = 40\n",
      "8 X 6 = 48\n",
      "8 X 7 = 56\n",
      "8 X 8 = 64\n",
      "8 X 9 = 72\n",
      "9 X 1 = 9\n",
      "9 X 2 = 18\n",
      "9 X 3 = 27\n",
      "9 X 4 = 36\n",
      "9 X 5 = 45\n",
      "9 X 6 = 54\n",
      "9 X 7 = 63\n",
      "9 X 8 = 72\n",
      "9 X 9 = 81\n"
     ]
    }
   ],
   "source": [
    "for a in range(2, 10, 1):\n",
    "    for b in range(1,10,1):\n",
    "        print(\"%d X %d = %d\"%(a, b, a*b))"
   ]
  },
  {
   "cell_type": "code",
   "execution_count": 21,
   "metadata": {},
   "outputs": [
    {
     "name": "stdout",
     "output_type": "stream",
     "text": [
      "10 X 1 = 10\n",
      "10 X 2 = 20\n",
      "10 X 3 = 30\n",
      "10 X 4 = 40\n",
      "10 X 5 = 50\n",
      "10 X 6 = 60\n",
      "10 X 7 = 70\n",
      "10 X 8 = 80\n",
      "10 X 9 = 90\n",
      "10 X 10 = 100\n"
     ]
    }
   ],
   "source": [
    "a = 1\n",
    "b = 0\n",
    "while a < 10:\n",
    "    # a * (b+1)\n",
    "    a += 1\n",
    "while b < 10:\n",
    "    b += 1\n",
    "    a * b\n",
    "    print(\"%d X %d = %d\"%(a, b, a*b))\n"
   ]
  },
  {
   "cell_type": "code",
   "execution_count": null,
   "metadata": {},
   "outputs": [],
   "source": [
    "## 2개의 주사위를 굴려서 두 주사위의 합이 5가 되는 주사위의 값"
   ]
  },
  {
   "cell_type": "code",
   "execution_count": 24,
   "metadata": {},
   "outputs": [
    {
     "name": "stdout",
     "output_type": "stream",
     "text": [
      "1 4\n",
      "2 3\n",
      "3 2\n",
      "4 1\n"
     ]
    }
   ],
   "source": [
    "for a in range(1,7,1):\n",
    "    for b in range(1,7,1):\n",
    "        if a + b ==5:\n",
    "            print(a,b)\n"
   ]
  },
  {
   "cell_type": "code",
   "execution_count": null,
   "metadata": {},
   "outputs": [],
   "source": [
    "## for 문\n",
    "## 1부터 100까지의 숫자중에 짝수의 합계\n",
    "## hint : 1부터 100까지 반복\n",
    "## if 조건식을 사용해서 짝수인 경우에만 +"
   ]
  },
  {
   "cell_type": "code",
   "execution_count": 43,
   "metadata": {},
   "outputs": [
    {
     "name": "stdout",
     "output_type": "stream",
     "text": [
      "2550\n",
      "2500\n"
     ]
    }
   ],
   "source": [
    "sum= 0 \n",
    "sum1=0\n",
    "for a in range(1,101,1):\n",
    "    if a%2 == 0 :\n",
    "       sum += a\n",
    "    else:\n",
    "       sum1 += a\n",
    "print(sum)\n",
    "print(sum1)"
   ]
  },
  {
   "cell_type": "code",
   "execution_count": null,
   "metadata": {},
   "outputs": [],
   "source": [
    "## 1부터 100까지 합계를 구하는 중 \n",
    "## 합계가 500이 넘어가는 숫자와 합계의 값"
   ]
  },
  {
   "cell_type": "code",
   "execution_count": 64,
   "metadata": {},
   "outputs": [
    {
     "name": "stdout",
     "output_type": "stream",
     "text": [
      "32\n",
      "528\n"
     ]
    }
   ],
   "source": [
    "sum = 0\n",
    "for a in range(1, 101, 1):\n",
    "    sum += a\n",
    "    if sum > 500 :\n",
    "       break\n",
    "print(a)\n",
    "print(sum)"
   ]
  },
  {
   "cell_type": "code",
   "execution_count": 62,
   "metadata": {},
   "outputs": [
    {
     "name": "stdout",
     "output_type": "stream",
     "text": [
      "32\n",
      "528\n"
     ]
    }
   ],
   "source": [
    "a = 0\n",
    "sum = 0\n",
    "while sum < 500 :\n",
    "    a += 1\n",
    "    sum += a  \n",
    "print(a)\n",
    "print(sum)"
   ]
  },
  {
   "cell_type": "code",
   "execution_count": 57,
   "metadata": {},
   "outputs": [
    {
     "name": "stdout",
     "output_type": "stream",
     "text": [
      "32\n",
      "528\n"
     ]
    }
   ],
   "source": [
    "a = 1\n",
    "sum = 0\n",
    "while a <= 100 :\n",
    "    sum += a\n",
    "    if sum > 500 :\n",
    "        break\n",
    "    a += 1\n",
    "print(a)\n",
    "print(sum)"
   ]
  },
  {
   "cell_type": "code",
   "execution_count": 70,
   "metadata": {},
   "outputs": [
    {
     "name": "stdout",
     "output_type": "stream",
     "text": [
      "10 번째 반복\n",
      "9 번째 반복\n",
      "8 번째 반복\n",
      "7 번째 반복\n",
      "6 번째 반복\n",
      "5 번째 반복\n",
      "4 번째 반복\n"
     ]
    }
   ],
   "source": [
    "for a in range(10,1,-1):\n",
    "    if a <= 3 :\n",
    "        break\n",
    "    print(\"%d 번째 반복\"%a)"
   ]
  },
  {
   "cell_type": "code",
   "execution_count": 68,
   "metadata": {},
   "outputs": [
    {
     "name": "stdout",
     "output_type": "stream",
     "text": [
      "4 번째 반복\n",
      "5 번째 반복\n",
      "6 번째 반복\n",
      "7 번째 반복\n",
      "8 번째 반복\n",
      "9 번째 반복\n"
     ]
    }
   ],
   "source": [
    "for a in range(1,10,1):\n",
    "    if a <= 3 :\n",
    "        continue\n",
    "    print(\"%d 번째 반복\"%a)"
   ]
  },
  {
   "cell_type": "code",
   "execution_count": null,
   "metadata": {},
   "outputs": [],
   "source": [
    "## 1부터 100까지 짝수의 합계"
   ]
  },
  {
   "cell_type": "code",
   "execution_count": 74,
   "metadata": {},
   "outputs": [
    {
     "name": "stdout",
     "output_type": "stream",
     "text": [
      "2550\n"
     ]
    }
   ],
   "source": [
    "sum = 0\n",
    "\n",
    "for a in range(1, 101, 1):\n",
    "     if a%2 == 0 :\n",
    "        sum += a\n",
    "        continue\n",
    "print(sum)\n"
   ]
  },
  {
   "cell_type": "code",
   "execution_count": 95,
   "metadata": {},
   "outputs": [
    {
     "name": "stdout",
     "output_type": "stream",
     "text": [
      "[11, 22, 33, 44, 55, 77]\n",
      "[11, 22, 33, 44, 77]\n",
      "[11, 22, 33, 44, 55, 77]\n",
      "[11, 22, 33, 44, 55, 77, 'a', 'b', 'c', 'd']\n",
      "[11, 22, 33, 44, 55, 77, 'a', 'b', 'c', 'd', 22]\n"
     ]
    },
    {
     "data": {
      "text/plain": [
       "11"
      ]
     },
     "execution_count": 95,
     "metadata": {},
     "output_type": "execute_result"
    }
   ],
   "source": [
    "l = [11, 55, 44, 22, 33]\n",
    "m = [\"a\", \"b\", \"c\", \"d\"]\n",
    "\n",
    "# l.sort()\n",
    "# l.reverse()\n",
    "l.insert(2,77)\n",
    "l.sort()\n",
    "print(l)\n",
    "l.remove(55)\n",
    "print(l)\n",
    "l.insert(4,55)\n",
    "print(l)\n",
    "l.extend(m)\n",
    "print(l)\n",
    "l.append(22)\n",
    "print(l)\n",
    "l.count(22)\n",
    "len(l)"
   ]
  },
  {
   "cell_type": "code",
   "execution_count": null,
   "metadata": {},
   "outputs": [],
   "source": [
    "## 1부터 70까지 숫자들중에 3의 배수를 리스트로 만들어서 출력"
   ]
  },
  {
   "cell_type": "code",
   "execution_count": 105,
   "metadata": {},
   "outputs": [
    {
     "name": "stdout",
     "output_type": "stream",
     "text": [
      "[3, 6, 9, 12, 15, 18, 21, 24, 27, 30, 33, 36, 39, 42, 45, 48, 51, 54, 57, 60, 63, 66, 69]\n",
      "828\n"
     ]
    }
   ],
   "source": [
    "l = []\n",
    "\n",
    "for a in range(1,71,1):\n",
    "    a += 1\n",
    "    if a%3 == 0 :\n",
    "        l.append(a)\n",
    "print(l)\n",
    "\n",
    "sum = 0\n",
    "for i in l:\n",
    "    sum += i\n",
    "print(sum)"
   ]
  },
  {
   "cell_type": "code",
   "execution_count": null,
   "metadata": {},
   "outputs": [],
   "source": []
  }
 ],
 "metadata": {
  "kernelspec": {
   "display_name": "Python 3",
   "language": "python",
   "name": "python3"
  },
  "language_info": {
   "codemirror_mode": {
    "name": "ipython",
    "version": 3
   },
   "file_extension": ".py",
   "mimetype": "text/x-python",
   "name": "python",
   "nbconvert_exporter": "python",
   "pygments_lexer": "ipython3",
   "version": "3.11.0"
  },
  "orig_nbformat": 4,
  "vscode": {
   "interpreter": {
    "hash": "c9f3ce141ab145ee0e2ff5113aee964060c08bbb3bc83f49e1890a1066f21d35"
   }
  }
 },
 "nbformat": 4,
 "nbformat_minor": 2
}
