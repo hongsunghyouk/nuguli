{
 "cells": [
  {
   "cell_type": "code",
   "execution_count": null,
   "metadata": {},
   "outputs": [],
   "source": [
    "### Class\n",
    "# 1. User 클래스 생성\n",
    "  # - 생성자 함수는 유저 정보 입력 : 이름, 휴대폰번호, 생년월일\n",
    "  # - info() 함수를 생성 : 유저의 정보를 출력해주는 함수\n",
    "# 2. Wallet 클래스 생성\n",
    "  # - User 를 상속\n",
    "  # - 생성자 함수는 소유자의 정보(이름, 휴대폰번호, 생년월일), 지갑 브랜드, 지갑의 가치, 잔액(0) 의 정보 입력\n",
    "  # - work() 함수 생성 : 일의 종류는 'TM', 'Alba', 'Serving' 이고 \n",
    "  #                     TM 을 하는 경우 지갑의 잔액이 5000 증가, \n",
    "  #                     Alba 를 하는 경우 잔액 10000 증가,\n",
    "  #                     Serving 을 하는 경우 잔액이 15000 증가\n",
    "  # - wallet_info() 함수 생성 : 지갑의 소유자 정보와 잔액을 출력"
   ]
  },
  {
   "cell_type": "code",
   "execution_count": 1,
   "metadata": {},
   "outputs": [],
   "source": [
    "# User 클래스 선언\n",
    "class User:\n",
    "    ## 생성자 함수인 __init__ 생성 해야함.\n",
    "    def __init__(self,_name, _phone, _birth): # _name 처럼 _ 넣은 것은 일종의 문법으로 input 받는다는 의미, self 는 클래스가 형성된 주소 값\n",
    "        self.name = _name\n",
    "        self.phone = _phone\n",
    "        self.birth = _birth\n",
    "    ## 유저의 정보를 출력하는 함수\n",
    "    def info(self):\n",
    "        self.result = [self.name, self.phone, self.birth]\n",
    "        return self.result"
   ]
  },
  {
   "cell_type": "code",
   "execution_count": 3,
   "metadata": {},
   "outputs": [],
   "source": [
    "user1 = User('test','01012345678', '800101') # user1 변수가 User class 의 self 라 보면 된다고...?\n",
    "user2 = User('test2', '01098765432', '850101')"
   ]
  },
  {
   "cell_type": "code",
   "execution_count": 4,
   "metadata": {},
   "outputs": [
    {
     "name": "stdout",
     "output_type": "stream",
     "text": [
      "['test', '01012345678', '800101']\n",
      "['test2', '01098765432', '850101']\n"
     ]
    }
   ],
   "source": [
    "print(user1.info()) # user1, user2 가 self 이므로 info(self) 함수에 인자를 안적어줘도 됨\n",
    "print(user2.info())"
   ]
  },
  {
   "cell_type": "code",
   "execution_count": 16,
   "metadata": {},
   "outputs": [],
   "source": [
    "## Wallet 클래스 선언\n",
    "class Wallet(User): # 괄호 안에 상속 받을 클래스명을 적음. User 를 부모 클래스라고 함, Wallet 을 자식 클래스\n",
    "    ## 생성자 함수 생성\n",
    "    def __init__(self, _name, _phone, _birth, _brand, _value, _balance = 0):\n",
    "        ## 부모 클래스의 생성자 함수를 실행. 부모 클래스를 보통 super 라고 함\n",
    "        super().__init__(_name, _phone, _birth)\n",
    "        self.brand = _brand\n",
    "        self.value = _value\n",
    "        self.balance = _balance\n",
    "    ## work() 함수 생성 -> 일의 종류를 선택 이므로 일의 종류가 매개변수가 되어야 함\n",
    "    def work(self, _work_type):\n",
    "        ## 업무별 금액 설정\n",
    "        if _work_type == \"TM\":\n",
    "            self.cost = 5000 # return 을 자꾸 만들기 귀찮기에 self.cost 라는 변수를 만들어 준 것임??\n",
    "        elif _work_type == \"Alba\":\n",
    "            self.cost = 10000\n",
    "        elif _work_type == \"Serving\":\n",
    "            self.cost = 15000\n",
    "        else :\n",
    "            return \"work_type이 맞지 않습니다\"\n",
    "        \n",
    "        ## 잔액변경 \n",
    "        self.balance += self.cost\n",
    "        return f\"{_work_type} 일을 성공하였습니다. 현재 잔액은 {self.balance}입니다.\"# f 라는 함수는 {} 안에 있는 변수를 받아 프린트 하는 것\n",
    "    \n",
    "    ## 지갑의 정보를 출력하는 함수\n",
    "    def wallet_info(self):\n",
    "        print(f\"지갑의 소유자는 {self.name}이고\")\n",
    "        print(f\"현재 잔액은 {self.balance}이다\")\n",
    "\n",
    "    ## 오버라이딩 - 부모 클래스의 기능을 변경하여 사용하기 위한 방법\n",
    "    def info(self):\n",
    "        print(f'소유자의 이름은{self.name}')\n",
    "        print(f'지급의 브랜드는 {self.brand}')\n",
    "        print(f'지갑의 가치는 {self.value}')"
   ]
  },
  {
   "cell_type": "code",
   "execution_count": 17,
   "metadata": {},
   "outputs": [],
   "source": [
    "wallet1 = Wallet('test', '01012345678', '800101', 'gucci', 1000000) # balance 는 0이 기본값이라 안적어도 됨\n",
    "wallet2 = Wallet('test2', '01098765432', '850101', 'chanel', 5000000) # balance 는 0이 기본값이라 안적어도 됨"
   ]
  },
  {
   "cell_type": "code",
   "execution_count": 12,
   "metadata": {},
   "outputs": [
    {
     "name": "stdout",
     "output_type": "stream",
     "text": [
      "지갑의 소유자는 test이고\n",
      "현재 잔액은 0이다\n"
     ]
    }
   ],
   "source": [
    "#wallet1.wallet_info()"
   ]
  },
  {
   "cell_type": "code",
   "execution_count": 18,
   "metadata": {},
   "outputs": [
    {
     "data": {
      "text/plain": [
       "'work_type이 맞지 않습니다'"
      ]
     },
     "execution_count": 18,
     "metadata": {},
     "output_type": "execute_result"
    }
   ],
   "source": [
    "wallet1.work('TM')\n",
    "wallet1.work('Alba')\n",
    "wallet1.work('Serving')\n",
    "wallet1.work('teaching')"
   ]
  },
  {
   "cell_type": "code",
   "execution_count": 19,
   "metadata": {},
   "outputs": [
    {
     "name": "stdout",
     "output_type": "stream",
     "text": [
      "지갑의 소유자는 test이고\n",
      "현재 잔액은 30000이다\n"
     ]
    }
   ],
   "source": [
    "wallet1.wallet_info() # 위의 클래스 함수가 실행되었으므로 잔액이 증가함 .TM, Alba, Serving 이 다 실행되었으므로 누적 30000"
   ]
  },
  {
   "cell_type": "code",
   "execution_count": 20,
   "metadata": {},
   "outputs": [
    {
     "name": "stdout",
     "output_type": "stream",
     "text": [
      "소유자의 이름은test\n",
      "지급의 브랜드는 gucci\n",
      "지갑의 가치는 1000000\n"
     ]
    }
   ],
   "source": [
    "wallet1.info() # User 라는 부모 클래스에 있는 함수가 실행된 것임...wallet 클래스에는 info 함수를 안 만들었지만 부모 클래스에 있으므로...\n",
    "               # 아래의 결과는 위의 wallet 클래스에 오버라이딩을 한 이후의 결과임"
   ]
  },
  {
   "cell_type": "code",
   "execution_count": null,
   "metadata": {},
   "outputs": [],
   "source": []
  }
 ],
 "metadata": {
  "kernelspec": {
   "display_name": "Python 3",
   "language": "python",
   "name": "python3"
  },
  "language_info": {
   "codemirror_mode": {
    "name": "ipython",
    "version": 3
   },
   "file_extension": ".py",
   "mimetype": "text/x-python",
   "name": "python",
   "nbconvert_exporter": "python",
   "pygments_lexer": "ipython3",
   "version": "3.11.1"
  },
  "orig_nbformat": 4,
  "vscode": {
   "interpreter": {
    "hash": "c261aea317cc0286b3b3261fbba9abdec21eaa57589985bb7a274bf54d6cc0a7"
   }
  }
 },
 "nbformat": 4,
 "nbformat_minor": 2
}
