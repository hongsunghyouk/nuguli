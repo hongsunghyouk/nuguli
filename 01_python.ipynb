{
 "cells": [
  {
   "cell_type": "code",
   "execution_count": 30,
   "metadata": {},
   "outputs": [
    {
     "name": "stdout",
     "output_type": "stream",
     "text": [
      "10\n",
      "<class 'int'>\n",
      "test\n",
      "<class 'str'>\n"
     ]
    }
   ],
   "source": [
    "# 변수 선언\n",
    "a = 10\n",
    "b = \"test\"\n",
    "\n",
    "## 변수 출력\n",
    "print(a)\n",
    "print(type(a))\n",
    "\n",
    "print(b)\n",
    "print(type(b))"
   ]
  },
  {
   "cell_type": "code",
   "execution_count": 31,
   "metadata": {},
   "outputs": [
    {
     "name": "stdout",
     "output_type": "stream",
     "text": [
      "test2\n"
     ]
    }
   ],
   "source": [
    "a=\"test2\"\n",
    "print(a)"
   ]
  },
  {
   "cell_type": "code",
   "execution_count": 32,
   "metadata": {},
   "outputs": [
    {
     "name": "stdout",
     "output_type": "stream",
     "text": [
      "<class 'str'>\n"
     ]
    }
   ],
   "source": [
    "print(type(a))"
   ]
  },
  {
   "cell_type": "code",
   "execution_count": 33,
   "metadata": {},
   "outputs": [
    {
     "name": "stdout",
     "output_type": "stream",
     "text": [
      "<class 'bool'>\n"
     ]
    }
   ],
   "source": [
    "## 불형 데이터\n",
    "## 참과 거짓의 형태\n",
    "a = True\n",
    "print(type(a))"
   ]
  },
  {
   "cell_type": "code",
   "execution_count": 34,
   "metadata": {},
   "outputs": [
    {
     "name": "stdout",
     "output_type": "stream",
     "text": [
      "True False True\n"
     ]
    }
   ],
   "source": [
    "b=(100>10)\n",
    "c=(100<10)\n",
    "d=(100==100)\n",
    "print(b,c,d)"
   ]
  },
  {
   "cell_type": "code",
   "execution_count": 35,
   "metadata": {},
   "outputs": [
    {
     "name": "stdout",
     "output_type": "stream",
     "text": [
      "10 4 21 2.3333333333333335 2 1 343\n"
     ]
    }
   ],
   "source": [
    "## 산술 연산자\n",
    "## 기본적인 사칙연산\n",
    "a=7\n",
    "b=3\n",
    "print(a+b,a-b,a*b,a/b,a//b,a%b,a**b)"
   ]
  },
  {
   "cell_type": "code",
   "execution_count": 36,
   "metadata": {},
   "outputs": [
    {
     "name": "stdout",
     "output_type": "stream",
     "text": [
      "13\n",
      "20\n"
     ]
    }
   ],
   "source": [
    "c=2\n",
    "print(a+b*c)\n",
    "print((a+b)*c)"
   ]
  },
  {
   "cell_type": "code",
   "execution_count": 37,
   "metadata": {},
   "outputs": [
    {
     "name": "stdout",
     "output_type": "stream",
     "text": [
      "12\n"
     ]
    }
   ],
   "source": [
    "## 대입 연산자\n",
    "a+=5 # a = a+5\n",
    "print(a)"
   ]
  },
  {
   "cell_type": "code",
   "execution_count": null,
   "metadata": {},
   "outputs": [],
   "source": []
  },
  {
   "cell_type": "code",
   "execution_count": 38,
   "metadata": {},
   "outputs": [
    {
     "ename": "SyntaxError",
     "evalue": "invalid syntax (1835494123.py, line 2)",
     "output_type": "error",
     "traceback": [
      "\u001b[1;36m  Cell \u001b[1;32mIn[38], line 2\u001b[1;36m\u001b[0m\n\u001b[1;33m    - if 문\u001b[0m\n\u001b[1;37m      ^\u001b[0m\n\u001b[1;31mSyntaxError\u001b[0m\u001b[1;31m:\u001b[0m invalid syntax\n"
     ]
    }
   ],
   "source": [
    "### 조건문\n",
    "- if 문"
   ]
  },
  {
   "cell_type": "code",
   "execution_count": null,
   "metadata": {},
   "outputs": [],
   "source": [
    "a=5\n",
    "if a < 10:\n",
    "    print(\"a는 10보다 작다\")"
   ]
  },
  {
   "attachments": {},
   "cell_type": "markdown",
   "metadata": {},
   "source": [
    "a=11"
   ]
  },
  {
   "cell_type": "markdown",
   "metadata": {},
   "source": []
  },
  {
   "cell_type": "code",
   "execution_count": null,
   "metadata": {},
   "outputs": [],
   "source": [
    "a=11"
   ]
  },
  {
   "cell_type": "markdown",
   "metadata": {},
   "source": []
  },
  {
   "cell_type": "code",
   "execution_count": null,
   "metadata": {},
   "outputs": [],
   "source": [
    "## if ~ else\n",
    "a=20\n",
    "\n",
    "if a < 10:\n",
    "    print(\"a는 10보다 작다\")\n",
    "else:\n",
    "    print(\"a는 10보다 크거나 같다\")"
   ]
  },
  {
   "cell_type": "code",
   "execution_count": null,
   "metadata": {},
   "outputs": [],
   "source": [
    "a=5"
   ]
  },
  {
   "cell_type": "code",
   "execution_count": null,
   "metadata": {},
   "outputs": [],
   "source": [
    "## if ~ else ~ else문\n",
    "score = int(input(\"점수를 입력하세요:\"))\n",
    "print(score)\n",
    "print(type(score))\n",
    "if score >=90:\n",
    "    print(\"A\")\n",
    "elif score >=80:\n",
    "    print(\"B\")\n",
    "elif score >=70:\n",
    "    print(\"C\")\n",
    "else:\n",
    "    print(\"F\")\n",
    "\n",
    "print(\"프로그램 종료\")"
   ]
  },
  {
   "cell_type": "code",
   "execution_count": 39,
   "metadata": {},
   "outputs": [
    {
     "name": "stdout",
     "output_type": "stream",
     "text": [
      "0 번째 반복\n",
      "1 번째 반복\n",
      "2 번째 반복\n",
      "3 번째 반복\n",
      "4 번째 반복\n",
      "5 번째 반복\n",
      "6 번째 반복\n",
      "7 번째 반복\n",
      "8 번째 반복\n",
      "9 번째 반복\n"
     ]
    }
   ],
   "source": [
    "## 반복문\n",
    "## for 문\n",
    "for i in range(0,10,1):\n",
    "    print(\"%d 번째 반복\" %i)"
   ]
  },
  {
   "cell_type": "code",
   "execution_count": 42,
   "metadata": {},
   "outputs": [
    {
     "name": "stdout",
     "output_type": "stream",
     "text": [
      "55\n"
     ]
    }
   ],
   "source": [
    "## 1부터 10까지의 합계\n",
    "## for 문\n",
    "\n",
    "## 합계 변수 생성\n",
    "sum = 0\n",
    "\n",
    "for a in range(1,11,1):\n",
    "    sum+=a\n",
    "    # sum = sum+a\n",
    "\n",
    "print(sum)"
   ]
  },
  {
   "cell_type": "code",
   "execution_count": 49,
   "metadata": {},
   "outputs": [
    {
     "name": "stdout",
     "output_type": "stream",
     "text": [
      "2단\n",
      "2 X 1 = 2\n",
      "2 X 2 = 4\n",
      "2 X 3 = 6\n",
      "2 X 4 = 8\n",
      "2 X 5 = 10\n",
      "2 X 6 = 12\n",
      "2 X 7 = 14\n",
      "2 X 8 = 16\n",
      "2 X 9 = 18\n",
      "3단\n",
      "3 X 1 = 3\n",
      "3 X 2 = 6\n",
      "3 X 3 = 9\n",
      "3 X 4 = 12\n",
      "3 X 5 = 15\n",
      "3 X 6 = 18\n",
      "3 X 7 = 21\n",
      "3 X 8 = 24\n",
      "3 X 9 = 27\n",
      "4단\n",
      "4 X 1 = 4\n",
      "4 X 2 = 8\n",
      "4 X 3 = 12\n",
      "4 X 4 = 16\n",
      "4 X 5 = 20\n",
      "4 X 6 = 24\n",
      "4 X 7 = 28\n",
      "4 X 8 = 32\n",
      "4 X 9 = 36\n",
      "5단\n",
      "5 X 1 = 5\n",
      "5 X 2 = 10\n",
      "5 X 3 = 15\n",
      "5 X 4 = 20\n",
      "5 X 5 = 25\n",
      "5 X 6 = 30\n",
      "5 X 7 = 35\n",
      "5 X 8 = 40\n",
      "5 X 9 = 45\n",
      "6단\n",
      "6 X 1 = 6\n",
      "6 X 2 = 12\n",
      "6 X 3 = 18\n",
      "6 X 4 = 24\n",
      "6 X 5 = 30\n",
      "6 X 6 = 36\n",
      "6 X 7 = 42\n",
      "6 X 8 = 48\n",
      "6 X 9 = 54\n",
      "7단\n",
      "7 X 1 = 7\n",
      "7 X 2 = 14\n",
      "7 X 3 = 21\n",
      "7 X 4 = 28\n",
      "7 X 5 = 35\n",
      "7 X 6 = 42\n",
      "7 X 7 = 49\n",
      "7 X 8 = 56\n",
      "7 X 9 = 63\n",
      "8단\n",
      "8 X 1 = 8\n",
      "8 X 2 = 16\n",
      "8 X 3 = 24\n",
      "8 X 4 = 32\n",
      "8 X 5 = 40\n",
      "8 X 6 = 48\n",
      "8 X 7 = 56\n",
      "8 X 8 = 64\n",
      "8 X 9 = 72\n",
      "9단\n",
      "9 X 1 = 9\n",
      "9 X 2 = 18\n",
      "9 X 3 = 27\n",
      "9 X 4 = 36\n",
      "9 X 5 = 45\n",
      "9 X 6 = 54\n",
      "9 X 7 = 63\n",
      "9 X 8 = 72\n",
      "9 X 9 = 81\n"
     ]
    }
   ],
   "source": [
    "## 다중 for 문\n",
    "## 구구단\n",
    "\n",
    "for i in range(2,10,1):\n",
    "    print(\"%d단\"%i)\n",
    "    for j in range(1,10,1):\n",
    "        print(\"%d X %d = %d\"%(i,j,i*j))"
   ]
  },
  {
   "cell_type": "code",
   "execution_count": 73,
   "metadata": {},
   "outputs": [
    {
     "name": "stdout",
     "output_type": "stream",
     "text": [
      "1 4\n",
      "2 3\n",
      "3 2\n",
      "4 1\n"
     ]
    }
   ],
   "source": [
    "## 2개의 주사위를 굴려서 두 주사위의 합이 5가 되는 주사위의 값\n",
    "\n",
    "for i in range(1,7,1):\n",
    "    for j in range(1,7,1):\n",
    "        if i+j==5:\n",
    "            print(i,j)\n"
   ]
  },
  {
   "cell_type": "code",
   "execution_count": 72,
   "metadata": {},
   "outputs": [
    {
     "name": "stdout",
     "output_type": "stream",
     "text": [
      "2550\n"
     ]
    }
   ],
   "source": [
    "## for 문\n",
    "## 1부터 100까지의 숫자중에 짝수의 합계\n",
    "## hint : 1부터 100까지 반복\n",
    "## if 조건식을 사용해서 짝수인 경우에만 +\n",
    "\n",
    "sum=0\n",
    "for i in range(1,101,1):\n",
    "    if i%2==0:\n",
    "        sum+=i\n",
    "print(sum)"
   ]
  },
  {
   "cell_type": "code",
   "execution_count": 75,
   "metadata": {},
   "outputs": [
    {
     "name": "stdout",
     "output_type": "stream",
     "text": [
      "1\n",
      "2\n",
      "3\n",
      "4\n",
      "5\n",
      "6\n",
      "7\n",
      "8\n",
      "9\n",
      "10\n"
     ]
    }
   ],
   "source": [
    "## while 문\n",
    "## 초기값 지정해야 함\n",
    "i=0\n",
    "\n",
    "## while 문 시작\n",
    "while i <10:\n",
    "    i+=1\n",
    "    print(i)"
   ]
  },
  {
   "cell_type": "code",
   "execution_count": 78,
   "metadata": {},
   "outputs": [
    {
     "name": "stdout",
     "output_type": "stream",
     "text": [
      "1 번째 반복\n",
      "2 번째 반복\n",
      "3 번째 반복\n",
      "4 번째 반복\n",
      "5 번째 반복\n"
     ]
    }
   ],
   "source": [
    "## break 문\n",
    "for i in range(1,101,1):\n",
    "    print(\"%d 번째 반복\"%i)\n",
    "    if i ==5:\n",
    "        break"
   ]
  },
  {
   "cell_type": "code",
   "execution_count": 80,
   "metadata": {},
   "outputs": [
    {
     "name": "stdout",
     "output_type": "stream",
     "text": [
      "합계가 500 이상이 되는 범위의 숫자 32 합계는 528\n"
     ]
    }
   ],
   "source": [
    "## 1부터 100까지 합계를 구하는 중 \n",
    "## 합계가 500이 넘어가는 숫자와 합계의 값\n",
    "\n",
    "sum=0\n",
    "\n",
    "for i in range(1,101,1):\n",
    "    sum+=i\n",
    "    if sum>=500:\n",
    "        break\n",
    "print(\"합계가 500 이상이 되는 범위의 숫자\",i,\"합계는\",sum)"
   ]
  },
  {
   "cell_type": "code",
   "execution_count": 97,
   "metadata": {},
   "outputs": [
    {
     "name": "stdout",
     "output_type": "stream",
     "text": [
      "합계가 500 이상이 되는 범위의 숫자 101 합계는 5050\n"
     ]
    }
   ],
   "source": [
    "sum=0\n",
    "i=1\n",
    "\n",
    "while i <=100:\n",
    "    sum+=i\n",
    "    if i>=500:\n",
    "        break\n",
    "    i+=1\n",
    "print(\"합계가 500 이상이 되는 범위의 숫자\",i,\"합계는\",sum)"
   ]
  },
  {
   "cell_type": "code",
   "execution_count": 98,
   "metadata": {},
   "outputs": [
    {
     "name": "stdout",
     "output_type": "stream",
     "text": [
      "4번째 반복\n",
      "5번째 반복\n",
      "6번째 반복\n",
      "7번째 반복\n",
      "8번째 반복\n",
      "9번째 반복\n"
     ]
    }
   ],
   "source": [
    "## continue문(반복문으로 돌아가는 것)\n",
    "\n",
    "for i in range(1,10,1):\n",
    "    if i <=3:\n",
    "        continue\n",
    "    print(\"%d번째 반복\"%i)"
   ]
  },
  {
   "cell_type": "code",
   "execution_count": 101,
   "metadata": {},
   "outputs": [
    {
     "name": "stdout",
     "output_type": "stream",
     "text": [
      "1번째 반복\n",
      "2번째 반복\n",
      "3번째 반복\n",
      "4번째 반복\n",
      "5번째 반복\n",
      "6번째 반복\n",
      "7번째 반복\n",
      "8번째 반복\n",
      "9번째 반복\n"
     ]
    }
   ],
   "source": [
    "## continue문(반복문으로 돌아가는 것)\n",
    "\n",
    "for i in range(1,10,1):\n",
    "    print(\"%d번째 반복\"%i)\n",
    "    if i <=3:\n",
    "        continue\n",
    " "
   ]
  },
  {
   "cell_type": "code",
   "execution_count": 102,
   "metadata": {},
   "outputs": [
    {
     "name": "stdout",
     "output_type": "stream",
     "text": [
      "2550\n"
     ]
    }
   ],
   "source": [
    "## 1부터 100까지 짝수의 합계\n",
    "\n",
    "sum=0\n",
    "\n",
    "for i in range(1,101,1):\n",
    "    if i%2==1:\n",
    "        continue\n",
    "    sum+=i\n",
    "\n",
    "print(sum)"
   ]
  },
  {
   "cell_type": "code",
   "execution_count": 104,
   "metadata": {},
   "outputs": [
    {
     "name": "stdout",
     "output_type": "stream",
     "text": [
      "0\n",
      "1\n",
      "2\n",
      "3\n",
      "4\n",
      "5\n",
      "6\n",
      "7\n",
      "8\n",
      "9\n",
      "10\n"
     ]
    }
   ],
   "source": [
    "for num in range(20):\n",
    "    print(num)\n",
    "    if num==10:\n",
    "        break\n"
   ]
  },
  {
   "cell_type": "code",
   "execution_count": 109,
   "metadata": {},
   "outputs": [
    {
     "name": "stdout",
     "output_type": "stream",
     "text": [
      "짝수 2\n",
      "홀수 3\n",
      "짝수 4\n",
      "홀수 5\n",
      "짝수 6\n",
      "홀수 7\n",
      "짝수 8\n",
      "홀수 9\n"
     ]
    }
   ],
   "source": [
    "for num in range(2,10):\n",
    "    if num%2==0:\n",
    "        print(\"짝수\",num)\n",
    "        continue\n",
    "    else:\n",
    "        print(\"홀수\",num)"
   ]
  },
  {
   "cell_type": "code",
   "execution_count": 110,
   "metadata": {},
   "outputs": [
    {
     "name": "stdout",
     "output_type": "stream",
     "text": [
      "(1, 'Hello') (3, 3.14) (1, 'Hello', 3, 3.14) (1, 'Hello', 1, 'Hello', 1, 'Hello') Hello\n"
     ]
    }
   ],
   "source": [
    "### 튜플\n",
    "a = (1,\"Hello\")\n",
    "b = (3, 3.14)\n",
    "c = a + b\n",
    "d = a * 3\n",
    "e = a[1]\n",
    "\n",
    "print(a,b,c,d,e)"
   ]
  },
  {
   "cell_type": "code",
   "execution_count": 111,
   "metadata": {},
   "outputs": [
    {
     "name": "stdout",
     "output_type": "stream",
     "text": [
      "1\n"
     ]
    }
   ],
   "source": [
    "## 숫자 1만 출력하고 싶으면\n",
    "\n",
    "print(a[0])"
   ]
  },
  {
   "cell_type": "code",
   "execution_count": 112,
   "metadata": {},
   "outputs": [
    {
     "name": "stdout",
     "output_type": "stream",
     "text": [
      "(20, 30)\n"
     ]
    }
   ],
   "source": [
    "a = (10, 20, 30, 40)\n",
    "\n",
    "print(a[1:3])"
   ]
  },
  {
   "cell_type": "code",
   "execution_count": 114,
   "metadata": {},
   "outputs": [
    {
     "name": "stdout",
     "output_type": "stream",
     "text": [
      "(30, 40)\n"
     ]
    }
   ],
   "source": [
    "print(a[2:])"
   ]
  },
  {
   "cell_type": "code",
   "execution_count": 6,
   "metadata": {},
   "outputs": [
    {
     "name": "stdout",
     "output_type": "stream",
     "text": [
      "[5, 10, 20, 50]\n"
     ]
    }
   ],
   "source": [
    "## list 형태 데이터\n",
    "a = [20, 10, 50, 5]\n",
    "b = [10, 20, 30, 40]\n",
    "\n",
    "a.sort()\n",
    "print(a)"
   ]
  },
  {
   "cell_type": "code",
   "execution_count": 8,
   "metadata": {},
   "outputs": [
    {
     "name": "stdout",
     "output_type": "stream",
     "text": [
      "[10, 20, 30, 40]\n"
     ]
    }
   ],
   "source": [
    "b.reverse()\n",
    "print(b)"
   ]
  },
  {
   "cell_type": "code",
   "execution_count": 10,
   "metadata": {},
   "outputs": [
    {
     "name": "stdout",
     "output_type": "stream",
     "text": [
      "[5, 10, 20, 50, 22, 22]\n"
     ]
    }
   ],
   "source": [
    "a.append(22)\n",
    "print(a)"
   ]
  },
  {
   "cell_type": "code",
   "execution_count": 120,
   "metadata": {},
   "outputs": [
    {
     "name": "stdout",
     "output_type": "stream",
     "text": [
      "[]\n",
      "[10]\n"
     ]
    }
   ],
   "source": [
    "a = []\n",
    "print(a)\n",
    "a.append(10)\n",
    "print(a)"
   ]
  },
  {
   "cell_type": "code",
   "execution_count": 119,
   "metadata": {},
   "outputs": [
    {
     "name": "stdout",
     "output_type": "stream",
     "text": [
      "[10]\n"
     ]
    }
   ],
   "source": [
    "a.append(10)\n",
    "print(a)"
   ]
  },
  {
   "cell_type": "code",
   "execution_count": 150,
   "metadata": {},
   "outputs": [
    {
     "name": "stdout",
     "output_type": "stream",
     "text": [
      "[3, 6, 9, 12, 15, 18, 21, 24, 27, 30, 33, 36, 39, 42, 45, 48, 51, 54, 57, 60, 63, 66, 69]\n"
     ]
    }
   ],
   "source": [
    "## 1부터 70까지 숫자들중에 3의 배수를 리스트로 만들어서 출력\n",
    "\n",
    "## 비어있는 리스트 생성\n",
    "l = []\n",
    "for i in range(1,71,1):\n",
    "    if i%3==0:\n",
    "        l.append(i)\n",
    "\n",
    "print(l)"
   ]
  },
  {
   "cell_type": "code",
   "execution_count": 133,
   "metadata": {},
   "outputs": [
    {
     "name": "stdout",
     "output_type": "stream",
     "text": [
      "5\n",
      "7\n",
      "10\n"
     ]
    }
   ],
   "source": [
    "for i in [5,7,10]:\n",
    "    print(i)"
   ]
  },
  {
   "cell_type": "code",
   "execution_count": 148,
   "metadata": {},
   "outputs": [
    {
     "name": "stdout",
     "output_type": "stream",
     "text": [
      "828\n"
     ]
    }
   ],
   "source": [
    "sum=0\n",
    "for i in l:\n",
    "    sum+=i\n",
    "print(sum)"
   ]
  },
  {
   "cell_type": "code",
   "execution_count": 156,
   "metadata": {},
   "outputs": [
    {
     "name": "stdout",
     "output_type": "stream",
     "text": [
      "test\n",
      "{'name': 'test', 'age': 20, 'phone': '01024288507', 'area': 'seoul'}\n"
     ]
    }
   ],
   "source": [
    "## 딕셔너리(사전형 데이터)\n",
    "## {key1 : value1, key2 : value2,....}\n",
    "dict={\n",
    "    \"name\" : \"test\",\n",
    "    \"age\" : 20,\n",
    "    \"phone\" : \"01024288507\",\n",
    "}\n",
    "print(dict[\"name\"])\n",
    "## 새로운 key : value 를 대입\n",
    "dict[\"area\"]=\"seoul\"\n",
    "print(dict)"
   ]
  },
  {
   "cell_type": "code",
   "execution_count": 178,
   "metadata": {},
   "outputs": [
    {
     "name": "stdout",
     "output_type": "stream",
     "text": [
      "test2\n",
      "[{'name': 'test1', 'age': 20}, {'name': 'test2', 'age': 30}, {'name': 'test3', 'age': 40}]\n"
     ]
    }
   ],
   "source": [
    "## Database 에서 데이터를 받아올 때 데이터의 형태\n",
    "## [{},{},{}] 리스트안에 딕셔너리형태로 들어옴\n",
    "test_data = [\n",
    "    {\n",
    "        \"name\" : \"test1\",\n",
    "        \"age\" : 20,\n",
    "    },\n",
    "    {\n",
    "        \"name\" : \"test2\",\n",
    "        \"age\" : 30\n",
    "    },\n",
    "    {\n",
    "        \"name\" : \"test3\",\n",
    "        \"age\" : 40\n",
    "    }\n",
    "]\n",
    "print(test_data[1][\"name\"])\n",
    "print(test_data)"
   ]
  },
  {
   "cell_type": "code",
   "execution_count": 169,
   "metadata": {},
   "outputs": [
    {
     "name": "stdout",
     "output_type": "stream",
     "text": [
      "['test1', 'test2', 'test3']\n"
     ]
    }
   ],
   "source": [
    "### test_data 에서 name 의 값들만 list 의 형태로 출력\n",
    "\n",
    "name_list =[]\n",
    "for i in test_data:\n",
    "    name_list.append(i[\"name\"])\n",
    "print(name_list)"
   ]
  },
  {
   "cell_type": "code",
   "execution_count": 171,
   "metadata": {},
   "outputs": [
    {
     "name": "stdout",
     "output_type": "stream",
     "text": [
      "['test1', 'test2', 'test3']\n"
     ]
    }
   ],
   "source": [
    "name_list=[]\n",
    "\n",
    "for i in range(0,3,1):\n",
    "    name_list.append(test_data[i][\"name\"])\n",
    "print(name_list)"
   ]
  },
  {
   "cell_type": "code",
   "execution_count": 176,
   "metadata": {},
   "outputs": [
    {
     "name": "stdout",
     "output_type": "stream",
     "text": [
      "[0, 2, 4, 6, 8, 10, 12, 14]\n",
      "0\n",
      "2\n",
      "6\n",
      "12\n",
      "20\n",
      "30\n",
      "42\n",
      "56\n"
     ]
    }
   ],
   "source": [
    "l=[]\n",
    "\n",
    "for i in range(0,15,2):\n",
    "    l.append(i)\n",
    "print(l)\n",
    "\n",
    "sum = 0\n",
    "for i in l:\n",
    "    sum+=i\n",
    "    print(sum)"
   ]
  },
  {
   "cell_type": "code",
   "execution_count": 179,
   "metadata": {},
   "outputs": [
    {
     "name": "stdout",
     "output_type": "stream",
     "text": [
      "HELLO WORLD\n",
      "hello world\n"
     ]
    }
   ],
   "source": [
    "## 문자열 내장 함수\n",
    "\n",
    "## 대문자, 소문자 변환\n",
    "## upper(), lower()\n",
    "text = \"Hello World\"\n",
    "print(text.upper())\n",
    "print(text.lower())"
   ]
  },
  {
   "cell_type": "code",
   "execution_count": 180,
   "metadata": {},
   "outputs": [
    {
     "name": "stdout",
     "output_type": "stream",
     "text": [
      "   Hello World   \n"
     ]
    }
   ],
   "source": [
    "text = \"   Hello World   \"\n",
    "print(text)"
   ]
  },
  {
   "cell_type": "code",
   "execution_count": 181,
   "metadata": {},
   "outputs": [
    {
     "name": "stdout",
     "output_type": "stream",
     "text": [
      "Hello World   \n",
      "   Hello World\n",
      "Hello World\n"
     ]
    }
   ],
   "source": [
    "## 공백제거 함수\n",
    "## strip() : 양쪽의 공백 제거\n",
    "## lstrip() : 왼쪽의 공백 제거\n",
    "## rstrip() : 오른쪽의 공백 제거\n",
    "print(text.lstrip())\n",
    "print(text.rstrip())\n",
    "print(text.strip())"
   ]
  },
  {
   "cell_type": "code",
   "execution_count": 184,
   "metadata": {},
   "outputs": [
    {
     "data": {
      "text/plain": [
       "'HelloWorld'"
      ]
     },
     "execution_count": 184,
     "metadata": {},
     "output_type": "execute_result"
    }
   ],
   "source": [
    "## replace()\n",
    "## 선택한 문자열을 변경하는 것\n",
    "## 공백을 제거하는 것에도 사용이 가능\n",
    "text.replace(\" \",\"\")"
   ]
  },
  {
   "cell_type": "code",
   "execution_count": 185,
   "metadata": {},
   "outputs": [
    {
     "data": {
      "text/plain": [
       "'   Hi World   '"
      ]
     },
     "execution_count": 185,
     "metadata": {},
     "output_type": "execute_result"
    }
   ],
   "source": [
    "text.replace(\"Hello\",\"Hi\")"
   ]
  },
  {
   "cell_type": "code",
   "execution_count": 186,
   "metadata": {},
   "outputs": [
    {
     "name": "stdout",
     "output_type": "stream",
     "text": [
      "a,b,c,d,e\n"
     ]
    }
   ],
   "source": [
    "### split()\n",
    "## 기준이 되는 문자열이나 , . / 와 같은 특수문자열을 기준으로 문자열을 나눠주는 역할을 한다\n",
    "a = \"a,b,c,d,e\"\n",
    "print(a)"
   ]
  },
  {
   "cell_type": "code",
   "execution_count": 187,
   "metadata": {},
   "outputs": [
    {
     "data": {
      "text/plain": [
       "['a', 'b', 'c', 'd', 'e']"
      ]
     },
     "execution_count": 187,
     "metadata": {},
     "output_type": "execute_result"
    }
   ],
   "source": [
    "a.split(\",\")"
   ]
  },
  {
   "cell_type": "code",
   "execution_count": 1,
   "metadata": {},
   "outputs": [],
   "source": [
    "## 함수 \n",
    "def func_1():\n",
    "    return \"Hello World\""
   ]
  },
  {
   "cell_type": "code",
   "execution_count": 3,
   "metadata": {},
   "outputs": [
    {
     "name": "stdout",
     "output_type": "stream",
     "text": [
      "Hello World\n"
     ]
    }
   ],
   "source": [
    "print(func_1())"
   ]
  },
  {
   "cell_type": "code",
   "execution_count": 190,
   "metadata": {},
   "outputs": [
    {
     "name": "stdout",
     "output_type": "stream",
     "text": [
      "8\n",
      "4\n",
      "14\n"
     ]
    }
   ],
   "source": [
    "## 매개변수가 존재하는 함수 생성\n",
    "def func_2(x,y):\n",
    "    result = x + y\n",
    "    return result\n",
    "\n",
    "print(func_2(5,3))\n",
    "print(func_2(1,3))\n",
    "print(func_2(10,4))"
   ]
  },
  {
   "cell_type": "code",
   "execution_count": 193,
   "metadata": {},
   "outputs": [
    {
     "ename": "TypeError",
     "evalue": "func_2() missing 1 required positional argument: 'y'",
     "output_type": "error",
     "traceback": [
      "\u001b[1;31m---------------------------------------------------------------------------\u001b[0m",
      "\u001b[1;31mTypeError\u001b[0m                                 Traceback (most recent call last)",
      "Cell \u001b[1;32mIn[193], line 1\u001b[0m\n\u001b[1;32m----> 1\u001b[0m func_2(\u001b[39m1\u001b[39;49m)\n",
      "\u001b[1;31mTypeError\u001b[0m: func_2() missing 1 required positional argument: 'y'"
     ]
    }
   ],
   "source": [
    "func_2(1)"
   ]
  },
  {
   "cell_type": "code",
   "execution_count": 194,
   "metadata": {},
   "outputs": [
    {
     "name": "stdout",
     "output_type": "stream",
     "text": [
      "6\n",
      "6\n"
     ]
    }
   ],
   "source": [
    "## 매개변수에 기본값을 정의\n",
    "def func_3(x,y=3): # 기본값을 정의하려면 모두 정의하던가 아니면 뒤에서부터 기본값을 정해주면서 가야됨\n",
    "    result = x + y\n",
    "    return result\n",
    "\n",
    "print(func_3(5,1)) # y 가 3으로 기본값이 정의되어 있지만 인자를 입력하면 y 값이 변경됨\n",
    "print(func_3(3))"
   ]
  },
  {
   "cell_type": "code",
   "execution_count": null,
   "metadata": {},
   "outputs": [],
   "source": [
    "def func_4(x = 3, y): # 앞에서부터 기본값을 준 잘못된 사례...y 밑에 빨간줄 가면서 애러 표시됨\n",
    "    result = "
   ]
  },
  {
   "cell_type": "code",
   "execution_count": 195,
   "metadata": {},
   "outputs": [
    {
     "name": "stdout",
     "output_type": "stream",
     "text": [
      "25\n",
      "32\n"
     ]
    }
   ],
   "source": [
    "def func_4(x,y):\n",
    "    result = x **y\n",
    "    return result\n",
    "\n",
    "print(func_4(5,2))\n",
    "print(func_4(y=5,x=2)) # 이렇게 입력하면 매개변수에 대한 인자 순서를 맞추지 않아도 되니 편리함"
   ]
  },
  {
   "cell_type": "code",
   "execution_count": null,
   "metadata": {},
   "outputs": [],
   "source": [
    "1. 함수를 하나 생성 하는데 매개변수 2개(x,y)\n",
    "2. 함수가 하는 행동은 (x 부터 y 까지의 합을 리턴) : for / while 문 아무것이나 사용\n",
    "3. x 보다 y 가 작은 경우에는 x 부터 y 까지의 합, 반대인 경우에는 y 부터 x 까지의 합을 리턴"
   ]
  },
  {
   "cell_type": "code",
   "execution_count": 216,
   "metadata": {},
   "outputs": [
    {
     "name": "stdout",
     "output_type": "stream",
     "text": [
      "55\n",
      "0\n"
     ]
    }
   ],
   "source": [
    "def func_5(x, y):\n",
    "    f_sum = 0\n",
    "    for i in range(x, y+1, 1): # y+1 을 안하면 아래의 첫번째 답이 45가 됨, 어디까지의 합을 만들기 위해서 +1을 함...코딩은 0부터 시작하므로...\n",
    "        f_sum += i # result = sum+=i 가되면 = 이 두개라 에러가 됨..result = 은 없애도 됨\n",
    "    return f_sum # f_sum +=i 과 동일한 라인에 있으면 아래의 답이 1 과 none 이 됨..동일한 라인이면 for 반복구문안에서 돌게됨.\n",
    "                 # for 와 같은 라인이 되어야 func_의 실행값을 돌려줄 수 있음\n",
    "\n",
    "\n",
    "print(func_5(1, 10))\n",
    "# print(f_sum) # f_sum 이 지역변수라 함수 밖에서 사용이 안되고 함수 안에서만 사용됨\n",
    "print(func_5(10, 1))"
   ]
  },
  {
   "cell_type": "code",
   "execution_count": 217,
   "metadata": {},
   "outputs": [
    {
     "name": "stdout",
     "output_type": "stream",
     "text": [
      "55\n"
     ]
    }
   ],
   "source": [
    "def func_6(x,y): # 위와 동일한데 for 문과 while 문의 차이\n",
    "    f_sum = 0\n",
    "    while x <= y:\n",
    "        f_sum += x\n",
    "        x += 1\n",
    "    return f_sum\n",
    "\n",
    "print(func_6(1,10))"
   ]
  },
  {
   "cell_type": "code",
   "execution_count": 218,
   "metadata": {},
   "outputs": [
    {
     "name": "stdout",
     "output_type": "stream",
     "text": [
      "55\n",
      "55\n"
     ]
    }
   ],
   "source": [
    "def func_7(x,y):\n",
    "    f_sum = 0\n",
    "    ## x 가 y 보다 작은 경우\n",
    "    if x < y :\n",
    "        for i in range(x, y+1, 1):\n",
    "            f_sum += i\n",
    "    else :\n",
    "        for i in range(y, x+1, 1):\n",
    "            f_sum += i\n",
    "    return f_sum\n",
    "\n",
    "print(func_7(1,10)) # if 문이 적용된 결과\n",
    "print(func_7(10,1)) # else 문이 적용된 결과"
   ]
  },
  {
   "cell_type": "code",
   "execution_count": 223,
   "metadata": {},
   "outputs": [
    {
     "name": "stdout",
     "output_type": "stream",
     "text": [
      "55\n",
      "55\n"
     ]
    }
   ],
   "source": [
    "def func_8(x, y):\n",
    "    f_sum = 0\n",
    "    for i in range(min(x,y), max(x, y)+1, 1): # 위와 동일한데 if ~ else 문을 사용하지 않고 간단히 하기위해 min, max 사용\n",
    "        f_sum += i\n",
    "    return f_sum\n",
    "\n",
    "print(func_8(1,10))\n",
    "print(func_8(10,1))"
   ]
  },
  {
   "cell_type": "code",
   "execution_count": null,
   "metadata": {},
   "outputs": [],
   "source": [
    "1. 함수 생성 (매개변수 3개 x, y, z)\n",
    " - z 의 값이 \"합\" 이라면 x+y 를 리턴 하고\n",
    " - z 의 값이 \"차\" 라면 x-y 를 리턴\n",
    " - z 의 값이 둘다 아니면 \"연산식이 잘못되었습니다\" 라고 리턴"
   ]
  },
  {
   "cell_type": "code",
   "execution_count": 226,
   "metadata": {},
   "outputs": [
    {
     "name": "stdout",
     "output_type": "stream",
     "text": [
      "4\n",
      "-2\n",
      "연산석이 잘못되었습니다.\n"
     ]
    }
   ],
   "source": [
    "def func_9(x, y, z):\n",
    "    if z==\"합\" :\n",
    "        result = x+y\n",
    "        return result # 위의 구문을 없애고 그냥 return x+y 라고 해도 됨\n",
    "    elif z==\"차\" :\n",
    "        result = x - y\n",
    "        return result\n",
    "    else :\n",
    "        return \"연산석이 잘못되었습니다.\"\n",
    "\n",
    "print(func_9(1,3,\"합\"))\n",
    "print(func_9(1,3,\"차\"))\n",
    "print(func_9(1,3,\"곱\"))\n"
   ]
  },
  {
   "cell_type": "code",
   "execution_count": 227,
   "metadata": {},
   "outputs": [
    {
     "name": "stdout",
     "output_type": "stream",
     "text": [
      "4\n",
      "-2\n",
      "연산석이 잘못되었습니다.\n"
     ]
    }
   ],
   "source": [
    "def func_9(x, y, z): # 위와 동일하나 esle 안써도 됨..return 의 자리 때문에..\n",
    "    if z==\"합\" :\n",
    "         return x+y \n",
    "    elif z==\"차\" :\n",
    "         return x-y\n",
    "    return \"연산석이 잘못되었습니다.\"\n",
    "\n",
    "print(func_9(1,3,\"합\"))\n",
    "print(func_9(1,3,\"차\"))\n",
    "print(func_9(1,3,\"곱\"))"
   ]
  },
  {
   "cell_type": "code",
   "execution_count": 228,
   "metadata": {},
   "outputs": [
    {
     "name": "stdout",
     "output_type": "stream",
     "text": [
      "4\n",
      "-2\n",
      "연산식이 잘못되었습니다\n"
     ]
    }
   ],
   "source": [
    "def func_10(x, y, z): # 위와 동일 하나 result 를 한번만 써도 되는 것임 이때는 else 써야 됨\n",
    "    if z==\"합\" :\n",
    "         result = x+y \n",
    "    elif z==\"차\" :\n",
    "         result = x-y\n",
    "    else :\n",
    "         result = \"연산식이 잘못되었습니다\" \n",
    "    return result\n",
    "\n",
    "print(func_10(1,3,\"합\"))\n",
    "print(func_10(1,3,\"차\"))\n",
    "print(func_10(1,3,\"곱\"))"
   ]
  },
  {
   "cell_type": "code",
   "execution_count": 235,
   "metadata": {},
   "outputs": [
    {
     "name": "stdout",
     "output_type": "stream",
     "text": [
      "[1, 4, 9, 16]\n"
     ]
    }
   ],
   "source": [
    "def func_11(x):\n",
    "    # result = x **2\n",
    "    return x **2 # 위의 행을 적으면 여기는 return result 가 되어야 하고..여기에 함수의 행동을 적을 수 있으면 위의 행은 없어도 됨\n",
    "\n",
    "l = [1, 2, 3, 4]\n",
    "\n",
    "m = [] \n",
    "\n",
    "for i in l:\n",
    "    m.append(func_11(i))\n",
    "print(m)\n",
    "\n"
   ]
  },
  {
   "cell_type": "code",
   "execution_count": 230,
   "metadata": {},
   "outputs": [
    {
     "name": "stdout",
     "output_type": "stream",
     "text": [
      "[1, 4, 9, 16]\n"
     ]
    }
   ],
   "source": [
    "## map 함수 (위의 내용을 더 간단히 만들 수 있음)\n",
    "result_2 = list(map(func_11,l)) # l 리스트에 있는 숫자를 하나하나씩 func_11에 넣어서..lst 형태로 만들어주겠다는 것\n",
    "print(result_2)"
   ]
  },
  {
   "cell_type": "code",
   "execution_count": 231,
   "metadata": {},
   "outputs": [
    {
     "name": "stdout",
     "output_type": "stream",
     "text": [
      "16\n"
     ]
    }
   ],
   "source": [
    "## 람다 함수 (위의 내용을 더 줄일 수 있음)\n",
    "lamb = lambda x: x**2\n",
    "print(lamb(4))"
   ]
  },
  {
   "cell_type": "code",
   "execution_count": 233,
   "metadata": {},
   "outputs": [
    {
     "data": {
      "text/plain": [
       "[1, 4, 9, 16]"
      ]
     },
     "execution_count": 233,
     "metadata": {},
     "output_type": "execute_result"
    }
   ],
   "source": [
    "list(map(lamb,l))"
   ]
  },
  {
   "cell_type": "code",
   "execution_count": null,
   "metadata": {},
   "outputs": [],
   "source": []
  }
 ],
 "metadata": {
  "kernelspec": {
   "display_name": "Python 3",
   "language": "python",
   "name": "python3"
  },
  "language_info": {
   "codemirror_mode": {
    "name": "ipython",
    "version": 3
   },
   "file_extension": ".py",
   "mimetype": "text/x-python",
   "name": "python",
   "nbconvert_exporter": "python",
   "pygments_lexer": "ipython3",
   "version": "3.11.1"
  },
  "orig_nbformat": 4,
  "vscode": {
   "interpreter": {
    "hash": "c261aea317cc0286b3b3261fbba9abdec21eaa57589985bb7a274bf54d6cc0a7"
   }
  }
 },
 "nbformat": 4,
 "nbformat_minor": 2
}
