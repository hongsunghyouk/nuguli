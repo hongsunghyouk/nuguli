{
 "cells": [
  {
   "cell_type": "code",
   "execution_count": 5,
   "metadata": {},
   "outputs": [],
   "source": [
    "## 클레스를 선언\n",
    "class Class_1():\n",
    "    def func_1(self):\n",
    "        print(\"Class_1 Call\")"
   ]
  },
  {
   "cell_type": "code",
   "execution_count": 6,
   "metadata": {},
   "outputs": [
    {
     "name": "stdout",
     "output_type": "stream",
     "text": [
      "<__main__.Class_1 object at 0x00000151993FCE90>\n"
     ]
    }
   ],
   "source": [
    "## 클레스 생성\n",
    "a = Class_1() # 위의 Class 를 실행을 시켜야 이것과 아래의 것이 실행이 됨\n",
    "print(a)"
   ]
  },
  {
   "cell_type": "code",
   "execution_count": 7,
   "metadata": {},
   "outputs": [
    {
     "name": "stdout",
     "output_type": "stream",
     "text": [
      "Class_1 Call\n"
     ]
    }
   ],
   "source": [
    "a.func_1()"
   ]
  },
  {
   "cell_type": "code",
   "execution_count": 8,
   "metadata": {},
   "outputs": [],
   "source": [
    "## 클래스 선언\n",
    "## 생성자 함수를 입력\n",
    "class Class_2():\n",
    "    def __init__(self,input_a,input_b): ## init 은 클래스를 생성할 때 ()인자값이 필요할 때\n",
    "        self.a = input_a\n",
    "        self.b = input_b"
   ]
  },
  {
   "cell_type": "code",
   "execution_count": 10,
   "metadata": {},
   "outputs": [],
   "source": [
    "b = Class_2(5, 1)"
   ]
  },
  {
   "cell_type": "code",
   "execution_count": 11,
   "metadata": {},
   "outputs": [],
   "source": [
    "c = Class_2(\"test\",\"test2\") ## input_a, input_b 의 값을 지정해주지 않으면 에러가 나고 두개의 값을 집어넣으면 실행이 됨"
   ]
  },
  {
   "cell_type": "code",
   "execution_count": 12,
   "metadata": {},
   "outputs": [
    {
     "name": "stdout",
     "output_type": "stream",
     "text": [
      "5\n",
      "test\n"
     ]
    }
   ],
   "source": [
    "print(b.a)\n",
    "print(c.a)"
   ]
  },
  {
   "cell_type": "code",
   "execution_count": 13,
   "metadata": {},
   "outputs": [],
   "source": [
    "class Class_3(): ## 클레스는 함수와 변수를 같이 집어넣을 수 있어 함수보다 더 편리하게 반복되는 작업을 할 수 있음\n",
    "    def __init__(self, input_x, input_y): ## init 이라는 함수가 있으면 무조건 그것부터(순서불문) 실행하도록 하는 것\n",
    "        self.x = input_x\n",
    "        self.y = input_y\n",
    "    def add(self):\n",
    "        self.result = self.x + self.y\n",
    "        return self.result\n",
    "    def subtract(self):\n",
    "        self.result = self.x - self.y\n",
    "        return self.result"
   ]
  },
  {
   "cell_type": "code",
   "execution_count": 18,
   "metadata": {},
   "outputs": [],
   "source": [
    "## 같은 class 와 그 안의 함수는 동일하나 class 의 변수를 달리하면 값이 달라짐.\n",
    "class_a = Class_3(10,2)\n",
    "class_b = Class_3(50,10)"
   ]
  },
  {
   "cell_type": "code",
   "execution_count": 21,
   "metadata": {},
   "outputs": [
    {
     "name": "stdout",
     "output_type": "stream",
     "text": [
      "12\n",
      "60\n"
     ]
    }
   ],
   "source": [
    "print(class_a.add())\n",
    "print(class_b.add())"
   ]
  },
  {
   "cell_type": "code",
   "execution_count": 22,
   "metadata": {},
   "outputs": [
    {
     "name": "stdout",
     "output_type": "stream",
     "text": [
      "8\n",
      "40\n"
     ]
    }
   ],
   "source": [
    "print(class_a.subtract())\n",
    "print(class_b.subtract())"
   ]
  },
  {
   "cell_type": "code",
   "execution_count": 23,
   "metadata": {},
   "outputs": [],
   "source": [
    "class Class_4():\n",
    "    _list = [] # _ 를 굳이 안적어도 되는데.._를 붙인 것은 문법적으로 들어오는 값이라는 의미임.\n",
    "\n",
    "    def __init__(self,input_name): # input_는 굳이 안적어도 되는데..input 을 적은 것은 문법적으로 이것이 입력받는 값이라는 표식을 준 것임\n",
    "        self.name = input_name\n",
    "\n",
    "    def add_list(self, input_phone):\n",
    "        self._list.append(input_phone)"
   ]
  },
  {
   "cell_type": "code",
   "execution_count": 47,
   "metadata": {},
   "outputs": [],
   "source": [
    "test = Class_4(\"test\")\n",
    "test2 = Class_4(\"test2\")"
   ]
  },
  {
   "cell_type": "code",
   "execution_count": 48,
   "metadata": {},
   "outputs": [
    {
     "data": {
      "text/plain": [
       "['01012345678',\n",
       " '01078941234',\n",
       " '01012345678',\n",
       " '01012345678',\n",
       " '01078941234',\n",
       " '01012345678',\n",
       " '01078941234']"
      ]
     },
     "execution_count": 48,
     "metadata": {},
     "output_type": "execute_result"
    }
   ],
   "source": [
    "test._list # test 를 Class_4 로 정의를 한 것이므로 test. 은 test 안(.)에 있는 list 라는 말이므로 비어있는 리스트가 나옴"
   ]
  },
  {
   "cell_type": "code",
   "execution_count": 40,
   "metadata": {},
   "outputs": [],
   "source": [
    "test.add_list(\"01012345678\") # test 를 Class_4 로 정의했기때문에 test(Class_4) 안에 있는 add_list 함수를 실행하라는 것임"
   ]
  },
  {
   "cell_type": "code",
   "execution_count": 41,
   "metadata": {},
   "outputs": [
    {
     "name": "stdout",
     "output_type": "stream",
     "text": [
      "['01012345678', '01078941234', '01012345678', '01012345678', '01078941234', '01012345678']\n"
     ]
    }
   ],
   "source": [
    "print(test._list) # 위에 append 함수를 썼기에 실행하면 계속 결과가 add 가 됨"
   ]
  },
  {
   "cell_type": "code",
   "execution_count": 43,
   "metadata": {},
   "outputs": [],
   "source": [
    "test2.add_list(\"01078941234\") # 위에 append 함수를 썼기에 실행하면 계속 결과가 add 가 됨"
   ]
  },
  {
   "cell_type": "code",
   "execution_count": 44,
   "metadata": {},
   "outputs": [
    {
     "name": "stdout",
     "output_type": "stream",
     "text": [
      "['01012345678', '01078941234', '01012345678', '01012345678', '01078941234', '01012345678', '01078941234']\n"
     ]
    }
   ],
   "source": [
    "print(test2._list)"
   ]
  },
  {
   "cell_type": "code",
   "execution_count": null,
   "metadata": {},
   "outputs": [],
   "source": []
  }
 ],
 "metadata": {
  "kernelspec": {
   "display_name": "Python 3",
   "language": "python",
   "name": "python3"
  },
  "language_info": {
   "codemirror_mode": {
    "name": "ipython",
    "version": 3
   },
   "file_extension": ".py",
   "mimetype": "text/x-python",
   "name": "python",
   "nbconvert_exporter": "python",
   "pygments_lexer": "ipython3",
   "version": "3.11.1"
  },
  "orig_nbformat": 4,
  "vscode": {
   "interpreter": {
    "hash": "c261aea317cc0286b3b3261fbba9abdec21eaa57589985bb7a274bf54d6cc0a7"
   }
  }
 },
 "nbformat": 4,
 "nbformat_minor": 2
}
